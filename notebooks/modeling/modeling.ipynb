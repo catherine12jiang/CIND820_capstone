{
 "cells": [
  {
   "cell_type": "code",
   "execution_count": 6,
   "metadata": {},
   "outputs": [
    {
     "name": "stdout",
     "output_type": "stream",
     "text": [
      "Requirement already satisfied: imbalanced-learn in c:\\users\\zhaokai\\miniconda3\\lib\\site-packages (0.10.1)\n",
      "Requirement already satisfied: numpy>=1.17.3 in c:\\users\\zhaokai\\miniconda3\\lib\\site-packages (from imbalanced-learn) (1.23.4)\n",
      "Requirement already satisfied: joblib>=1.1.1 in c:\\users\\zhaokai\\miniconda3\\lib\\site-packages (from imbalanced-learn) (1.2.0)\n",
      "Requirement already satisfied: scipy>=1.3.2 in c:\\users\\zhaokai\\miniconda3\\lib\\site-packages (from imbalanced-learn) (1.9.3)\n",
      "Requirement already satisfied: scikit-learn>=1.0.2 in c:\\users\\zhaokai\\miniconda3\\lib\\site-packages (from imbalanced-learn) (1.2.2)\n",
      "Requirement already satisfied: threadpoolctl>=2.0.0 in c:\\users\\zhaokai\\miniconda3\\lib\\site-packages (from imbalanced-learn) (3.1.0)\n"
     ]
    }
   ],
   "source": [
    "! pip install imbalanced-learn"
   ]
  },
  {
   "cell_type": "code",
   "execution_count": 3,
   "metadata": {},
   "outputs": [
    {
     "data": {
      "text/html": [
       "<div>\n",
       "<style scoped>\n",
       "    .dataframe tbody tr th:only-of-type {\n",
       "        vertical-align: middle;\n",
       "    }\n",
       "\n",
       "    .dataframe tbody tr th {\n",
       "        vertical-align: top;\n",
       "    }\n",
       "\n",
       "    .dataframe thead th {\n",
       "        text-align: right;\n",
       "    }\n",
       "</style>\n",
       "<table border=\"1\" class=\"dataframe\">\n",
       "  <thead>\n",
       "    <tr style=\"text-align: right;\">\n",
       "      <th></th>\n",
       "      <th>Route Type</th>\n",
       "      <th>Collision Type</th>\n",
       "      <th>Weather</th>\n",
       "      <th>Surface Condition</th>\n",
       "      <th>Light</th>\n",
       "      <th>Traffic Control</th>\n",
       "      <th>Driver Substance Abuse</th>\n",
       "      <th>Driver At Fault</th>\n",
       "      <th>Injury Severity</th>\n",
       "      <th>Driver Distracted By</th>\n",
       "      <th>Speed Limit</th>\n",
       "      <th>Day of Week</th>\n",
       "      <th>Time of Day</th>\n",
       "    </tr>\n",
       "  </thead>\n",
       "  <tbody>\n",
       "    <tr>\n",
       "      <th>0</th>\n",
       "      <td>County</td>\n",
       "      <td>OTHER</td>\n",
       "      <td>CLEAR</td>\n",
       "      <td>DRY</td>\n",
       "      <td>DAYLIGHT</td>\n",
       "      <td>NO CONTROLS</td>\n",
       "      <td>DETECTED</td>\n",
       "      <td>Yes</td>\n",
       "      <td>No Injury</td>\n",
       "      <td>NOT DISTRACTED</td>\n",
       "      <td>15-25</td>\n",
       "      <td>Sunday</td>\n",
       "      <td>afternoon</td>\n",
       "    </tr>\n",
       "    <tr>\n",
       "      <th>1</th>\n",
       "      <td>County</td>\n",
       "      <td>OTHER</td>\n",
       "      <td>CLOUDY</td>\n",
       "      <td>DRY</td>\n",
       "      <td>DAYLIGHT</td>\n",
       "      <td>NO CONTROLS</td>\n",
       "      <td>NONE DETECTED</td>\n",
       "      <td>Yes</td>\n",
       "      <td>Minor Injury</td>\n",
       "      <td>NOT DISTRACTED</td>\n",
       "      <td>15-25</td>\n",
       "      <td>Monday</td>\n",
       "      <td>morning</td>\n",
       "    </tr>\n",
       "    <tr>\n",
       "      <th>2</th>\n",
       "      <td>Municipality</td>\n",
       "      <td>SAME DIR REAR END</td>\n",
       "      <td>CLEAR</td>\n",
       "      <td>DRY</td>\n",
       "      <td>DAWN</td>\n",
       "      <td>TRAFFIC SIGNAL</td>\n",
       "      <td>NONE DETECTED</td>\n",
       "      <td>No</td>\n",
       "      <td>No Injury</td>\n",
       "      <td>NOT DISTRACTED</td>\n",
       "      <td>30-40</td>\n",
       "      <td>Tuesday</td>\n",
       "      <td>morning</td>\n",
       "    </tr>\n",
       "    <tr>\n",
       "      <th>3</th>\n",
       "      <td>County</td>\n",
       "      <td>SINGLE VEHICLE</td>\n",
       "      <td>CLOUDY</td>\n",
       "      <td>DRY</td>\n",
       "      <td>DAYLIGHT</td>\n",
       "      <td>NO CONTROLS</td>\n",
       "      <td>NONE DETECTED</td>\n",
       "      <td>No</td>\n",
       "      <td>No Injury</td>\n",
       "      <td>NOT DISTRACTED</td>\n",
       "      <td>30-40</td>\n",
       "      <td>Tuesday</td>\n",
       "      <td>morning</td>\n",
       "    </tr>\n",
       "    <tr>\n",
       "      <th>4</th>\n",
       "      <td>County</td>\n",
       "      <td>SINGLE VEHICLE</td>\n",
       "      <td>CLEAR</td>\n",
       "      <td>DRY</td>\n",
       "      <td>DARK LIGHTS ON</td>\n",
       "      <td>NO CONTROLS</td>\n",
       "      <td>DETECTED</td>\n",
       "      <td>No</td>\n",
       "      <td>No Injury</td>\n",
       "      <td>NOT DISTRACTED</td>\n",
       "      <td>30-40</td>\n",
       "      <td>Thursday</td>\n",
       "      <td>dawn</td>\n",
       "    </tr>\n",
       "  </tbody>\n",
       "</table>\n",
       "</div>"
      ],
      "text/plain": [
       "     Route Type     Collision Type Weather Surface Condition           Light  \\\n",
       "0        County              OTHER   CLEAR               DRY        DAYLIGHT   \n",
       "1        County              OTHER  CLOUDY               DRY        DAYLIGHT   \n",
       "2  Municipality  SAME DIR REAR END   CLEAR               DRY            DAWN   \n",
       "3        County     SINGLE VEHICLE  CLOUDY               DRY        DAYLIGHT   \n",
       "4        County     SINGLE VEHICLE   CLEAR               DRY  DARK LIGHTS ON   \n",
       "\n",
       "  Traffic Control Driver Substance Abuse Driver At Fault Injury Severity  \\\n",
       "0     NO CONTROLS               DETECTED             Yes       No Injury   \n",
       "1     NO CONTROLS          NONE DETECTED             Yes    Minor Injury   \n",
       "2  TRAFFIC SIGNAL          NONE DETECTED              No       No Injury   \n",
       "3     NO CONTROLS          NONE DETECTED              No       No Injury   \n",
       "4     NO CONTROLS               DETECTED              No       No Injury   \n",
       "\n",
       "  Driver Distracted By Speed Limit Day of Week Time of Day  \n",
       "0       NOT DISTRACTED       15-25      Sunday   afternoon  \n",
       "1       NOT DISTRACTED       15-25      Monday     morning  \n",
       "2       NOT DISTRACTED       30-40     Tuesday     morning  \n",
       "3       NOT DISTRACTED       30-40     Tuesday     morning  \n",
       "4       NOT DISTRACTED       30-40    Thursday        dawn  "
      ]
     },
     "execution_count": 3,
     "metadata": {},
     "output_type": "execute_result"
    }
   ],
   "source": [
    "import pandas as pd\n",
    "\n",
    "df = pd.read_csv(\"../../data/processed/cleaned_data.csv\",dtype=\"category\")\n",
    "df.head()"
   ]
  },
  {
   "cell_type": "code",
   "execution_count": 4,
   "metadata": {},
   "outputs": [
    {
     "name": "stdout",
     "output_type": "stream",
     "text": [
      "<class 'pandas.core.frame.DataFrame'>\n",
      "RangeIndex: 105379 entries, 0 to 105378\n",
      "Data columns (total 13 columns):\n",
      " #   Column                  Non-Null Count   Dtype   \n",
      "---  ------                  --------------   -----   \n",
      " 0   Route Type              105379 non-null  category\n",
      " 1   Collision Type          105379 non-null  category\n",
      " 2   Weather                 105379 non-null  category\n",
      " 3   Surface Condition       105379 non-null  category\n",
      " 4   Light                   105379 non-null  category\n",
      " 5   Traffic Control         105379 non-null  category\n",
      " 6   Driver Substance Abuse  105379 non-null  category\n",
      " 7   Driver At Fault         105379 non-null  category\n",
      " 8   Injury Severity         105379 non-null  category\n",
      " 9   Driver Distracted By    105379 non-null  category\n",
      " 10  Speed Limit             105379 non-null  category\n",
      " 11  Day of Week             105379 non-null  category\n",
      " 12  Time of Day             105379 non-null  category\n",
      "dtypes: category(13)\n",
      "memory usage: 1.3 MB\n"
     ]
    }
   ],
   "source": [
    "df.info()"
   ]
  },
  {
   "cell_type": "code",
   "execution_count": 1,
   "metadata": {},
   "outputs": [],
   "source": [
    "# Random Forest can be utilized for feature selection by leveraging the feature importance scores provided by the algorithm\n",
    "\n",
    "import sklearn\n",
    "from sklearn.ensemble import RandomForestClassifier\n",
    "import numpy as np"
   ]
  },
  {
   "cell_type": "code",
   "execution_count": 4,
   "metadata": {},
   "outputs": [
    {
     "data": {
      "text/html": [
       "<style>#sk-container-id-1 {color: black;background-color: white;}#sk-container-id-1 pre{padding: 0;}#sk-container-id-1 div.sk-toggleable {background-color: white;}#sk-container-id-1 label.sk-toggleable__label {cursor: pointer;display: block;width: 100%;margin-bottom: 0;padding: 0.3em;box-sizing: border-box;text-align: center;}#sk-container-id-1 label.sk-toggleable__label-arrow:before {content: \"▸\";float: left;margin-right: 0.25em;color: #696969;}#sk-container-id-1 label.sk-toggleable__label-arrow:hover:before {color: black;}#sk-container-id-1 div.sk-estimator:hover label.sk-toggleable__label-arrow:before {color: black;}#sk-container-id-1 div.sk-toggleable__content {max-height: 0;max-width: 0;overflow: hidden;text-align: left;background-color: #f0f8ff;}#sk-container-id-1 div.sk-toggleable__content pre {margin: 0.2em;color: black;border-radius: 0.25em;background-color: #f0f8ff;}#sk-container-id-1 input.sk-toggleable__control:checked~div.sk-toggleable__content {max-height: 200px;max-width: 100%;overflow: auto;}#sk-container-id-1 input.sk-toggleable__control:checked~label.sk-toggleable__label-arrow:before {content: \"▾\";}#sk-container-id-1 div.sk-estimator input.sk-toggleable__control:checked~label.sk-toggleable__label {background-color: #d4ebff;}#sk-container-id-1 div.sk-label input.sk-toggleable__control:checked~label.sk-toggleable__label {background-color: #d4ebff;}#sk-container-id-1 input.sk-hidden--visually {border: 0;clip: rect(1px 1px 1px 1px);clip: rect(1px, 1px, 1px, 1px);height: 1px;margin: -1px;overflow: hidden;padding: 0;position: absolute;width: 1px;}#sk-container-id-1 div.sk-estimator {font-family: monospace;background-color: #f0f8ff;border: 1px dotted black;border-radius: 0.25em;box-sizing: border-box;margin-bottom: 0.5em;}#sk-container-id-1 div.sk-estimator:hover {background-color: #d4ebff;}#sk-container-id-1 div.sk-parallel-item::after {content: \"\";width: 100%;border-bottom: 1px solid gray;flex-grow: 1;}#sk-container-id-1 div.sk-label:hover label.sk-toggleable__label {background-color: #d4ebff;}#sk-container-id-1 div.sk-serial::before {content: \"\";position: absolute;border-left: 1px solid gray;box-sizing: border-box;top: 0;bottom: 0;left: 50%;z-index: 0;}#sk-container-id-1 div.sk-serial {display: flex;flex-direction: column;align-items: center;background-color: white;padding-right: 0.2em;padding-left: 0.2em;position: relative;}#sk-container-id-1 div.sk-item {position: relative;z-index: 1;}#sk-container-id-1 div.sk-parallel {display: flex;align-items: stretch;justify-content: center;background-color: white;position: relative;}#sk-container-id-1 div.sk-item::before, #sk-container-id-1 div.sk-parallel-item::before {content: \"\";position: absolute;border-left: 1px solid gray;box-sizing: border-box;top: 0;bottom: 0;left: 50%;z-index: -1;}#sk-container-id-1 div.sk-parallel-item {display: flex;flex-direction: column;z-index: 1;position: relative;background-color: white;}#sk-container-id-1 div.sk-parallel-item:first-child::after {align-self: flex-end;width: 50%;}#sk-container-id-1 div.sk-parallel-item:last-child::after {align-self: flex-start;width: 50%;}#sk-container-id-1 div.sk-parallel-item:only-child::after {width: 0;}#sk-container-id-1 div.sk-dashed-wrapped {border: 1px dashed gray;margin: 0 0.4em 0.5em 0.4em;box-sizing: border-box;padding-bottom: 0.4em;background-color: white;}#sk-container-id-1 div.sk-label label {font-family: monospace;font-weight: bold;display: inline-block;line-height: 1.2em;}#sk-container-id-1 div.sk-label-container {text-align: center;}#sk-container-id-1 div.sk-container {/* jupyter's `normalize.less` sets `[hidden] { display: none; }` but bootstrap.min.css set `[hidden] { display: none !important; }` so we also need the `!important` here to be able to override the default hidden behavior on the sphinx rendered scikit-learn.org. See: https://github.com/scikit-learn/scikit-learn/issues/21755 */display: inline-block !important;position: relative;}#sk-container-id-1 div.sk-text-repr-fallback {display: none;}</style><div id=\"sk-container-id-1\" class=\"sk-top-container\"><div class=\"sk-text-repr-fallback\"><pre>RandomForestClassifier()</pre><b>In a Jupyter environment, please rerun this cell to show the HTML representation or trust the notebook. <br />On GitHub, the HTML representation is unable to render, please try loading this page with nbviewer.org.</b></div><div class=\"sk-container\" hidden><div class=\"sk-item\"><div class=\"sk-estimator sk-toggleable\"><input class=\"sk-toggleable__control sk-hidden--visually\" id=\"sk-estimator-id-1\" type=\"checkbox\" checked><label for=\"sk-estimator-id-1\" class=\"sk-toggleable__label sk-toggleable__label-arrow\">RandomForestClassifier</label><div class=\"sk-toggleable__content\"><pre>RandomForestClassifier()</pre></div></div></div></div></div>"
      ],
      "text/plain": [
       "RandomForestClassifier()"
      ]
     },
     "execution_count": 4,
     "metadata": {},
     "output_type": "execute_result"
    }
   ],
   "source": [
    "rf = RandomForestClassifier()\n",
    "df_numeric = df.apply(lambda x: x.cat.codes)\n",
    "y=df_numeric[\"Injury Severity\"]\n",
    "x=df_numeric.drop([\"Injury Severity\"],axis=1)\n",
    "rf.fit(x, y)"
   ]
  },
  {
   "cell_type": "code",
   "execution_count": 5,
   "metadata": {},
   "outputs": [
    {
     "name": "stdout",
     "output_type": "stream",
     "text": [
      "Feature 1: Day of Week (0.2413110611051155)\n",
      "Feature 2: Collision Type (0.17156239100919168)\n",
      "Feature 3: Route Type (0.09834265420188883)\n",
      "Feature 4: Time of Day (0.08500256727808762)\n",
      "Feature 5: Light (0.07988932601527288)\n",
      "Feature 6: Weather (0.07533660754895521)\n",
      "Feature 7: Traffic Control (0.074082242567594)\n",
      "Feature 8: Speed Limit (0.051841030568435906)\n",
      "Feature 9: Surface Condition (0.035316691660599225)\n",
      "Feature 10: Driver Substance Abuse (0.0340219788984097)\n",
      "Feature 11: Driver At Fault (0.03034005191000452)\n",
      "Feature 12: Driver Distracted By (0.02295339723644496)\n"
     ]
    }
   ],
   "source": [
    "importance = rf.feature_importances_\n",
    "indices = np.argsort(importance)[::-1]  # Sort indices in descending order\n",
    "for i, feature_index in enumerate(indices):\n",
    "    print(f\"Feature {i+1}: {x.columns[feature_index]} ({importance[feature_index]})\")"
   ]
  },
  {
   "cell_type": "code",
   "execution_count": 17,
   "metadata": {},
   "outputs": [],
   "source": [
    "# balance class attribute data\n",
    "import numpy as np\n",
    "from sklearn.datasets import make_classification\n",
    "from sklearn.model_selection import train_test_split\n",
    "\n",
    "x, y = make_classification(n_samples=105379,  # Same as the number of rows in your DataFrame\n",
    "    n_features=12,  # Total number of features excluding the class attribute\n",
    "    n_informative=12,  # Number of informative features in your dataset\n",
    "    n_redundant=0,  # Number of redundant features (adjust as needed)\n",
    "    n_repeated=0,  # Number of repeated features (adjust as needed)\n",
    "    n_classes=3,  # Number of classes in your class attribute\n",
    "    weights=[84376, 19981, 1022],  # Class distribution of the target variable\n",
    "    random_state=42)\n",
    "\n",
    "x_train, x_test, y_train, y_test = train_test_split(x, y, test_size=0.2, random_state=42)"
   ]
  },
  {
   "cell_type": "code",
   "execution_count": 18,
   "metadata": {},
   "outputs": [
    {
     "name": "stdout",
     "output_type": "stream",
     "text": [
      "Before SMOTE:\n",
      "[83763   285   255]\n",
      "After SMOTE:\n",
      "[83763 83763 83763]\n"
     ]
    }
   ],
   "source": [
    "# SMOTE\n",
    "\n",
    "from imblearn.over_sampling import SMOTE\n",
    "\n",
    "smote = SMOTE(random_state=42)\n",
    "x_train_resampled, y_train_resampled = smote.fit_resample(x_train, y_train)\n",
    "\n",
    "print(\"Before SMOTE:\")\n",
    "print(np.bincount(y_train))\n",
    "\n",
    "print(\"After SMOTE:\")\n",
    "print(np.bincount(y_train_resampled))"
   ]
  },
  {
   "cell_type": "code",
   "execution_count": 19,
   "metadata": {},
   "outputs": [
    {
     "name": "stdout",
     "output_type": "stream",
     "text": [
      "Before ROSE:\n",
      "[83763   285   255]\n",
      "After ROSE:\n",
      "[83763 83763 83763]\n"
     ]
    }
   ],
   "source": [
    "# ROSE\n",
    "\n",
    "from imblearn.over_sampling import RandomOverSampler\n",
    "\n",
    "ros = RandomOverSampler(random_state=42)\n",
    "x_train_resampled, y_train_resampled = ros.fit_resample(x_train, y_train)\n",
    "\n",
    "print(\"Before ROSE:\")\n",
    "print(np.bincount(y_train))\n",
    "\n",
    "print(\"After ROSE:\")\n",
    "print(np.bincount(y_train_resampled))"
   ]
  },
  {
   "cell_type": "code",
   "execution_count": 11,
   "metadata": {},
   "outputs": [
    {
     "name": "stdout",
     "output_type": "stream",
     "text": [
      "<class 'pandas.core.frame.DataFrame'>\n",
      "RangeIndex: 105379 entries, 0 to 105378\n",
      "Data columns (total 13 columns):\n",
      " #   Column                  Non-Null Count   Dtype   \n",
      "---  ------                  --------------   -----   \n",
      " 0   Route Type              105379 non-null  category\n",
      " 1   Collision Type          105379 non-null  category\n",
      " 2   Weather                 105379 non-null  category\n",
      " 3   Surface Condition       105379 non-null  category\n",
      " 4   Light                   105379 non-null  category\n",
      " 5   Traffic Control         105379 non-null  category\n",
      " 6   Driver Substance Abuse  105379 non-null  category\n",
      " 7   Driver At Fault         105379 non-null  category\n",
      " 8   Injury Severity         105379 non-null  category\n",
      " 9   Driver Distracted By    105379 non-null  category\n",
      " 10  Speed Limit             105379 non-null  category\n",
      " 11  Day of Week             105379 non-null  category\n",
      " 12  Time of Day             105379 non-null  category\n",
      "dtypes: category(13)\n",
      "memory usage: 1.3 MB\n"
     ]
    }
   ],
   "source": [
    "df.info()"
   ]
  }
 ],
 "metadata": {
  "kernelspec": {
   "display_name": "Python 3",
   "language": "python",
   "name": "python3"
  },
  "language_info": {
   "codemirror_mode": {
    "name": "ipython",
    "version": 3
   },
   "file_extension": ".py",
   "mimetype": "text/x-python",
   "name": "python",
   "nbconvert_exporter": "python",
   "pygments_lexer": "ipython3",
   "version": "3.9.15"
  },
  "orig_nbformat": 4
 },
 "nbformat": 4,
 "nbformat_minor": 2
}
