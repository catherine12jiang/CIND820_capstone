{
 "cells": [
  {
   "cell_type": "code",
   "execution_count": 109,
   "metadata": {},
   "outputs": [
    {
     "name": "stderr",
     "output_type": "stream",
     "text": [
      "C:\\Users\\Zhaokai\\AppData\\Local\\Temp\\ipykernel_6500\\1438613043.py:4: DtypeWarning: Columns (1) have mixed types. Specify dtype option on import or set low_memory=False.\n",
      "  df = pd.read_csv(\"../../data/raw/Crash_Reporting_Drivers_Data.csv\")\n"
     ]
    },
    {
     "data": {
      "text/html": [
       "<div>\n",
       "<style scoped>\n",
       "    .dataframe tbody tr th:only-of-type {\n",
       "        vertical-align: middle;\n",
       "    }\n",
       "\n",
       "    .dataframe tbody tr th {\n",
       "        vertical-align: top;\n",
       "    }\n",
       "\n",
       "    .dataframe thead th {\n",
       "        text-align: right;\n",
       "    }\n",
       "</style>\n",
       "<table border=\"1\" class=\"dataframe\">\n",
       "  <thead>\n",
       "    <tr style=\"text-align: right;\">\n",
       "      <th></th>\n",
       "      <th>Report Number</th>\n",
       "      <th>Local Case Number</th>\n",
       "      <th>Agency Name</th>\n",
       "      <th>ACRS Report Type</th>\n",
       "      <th>Crash Date/Time</th>\n",
       "      <th>Route Type</th>\n",
       "      <th>Road Name</th>\n",
       "      <th>Cross-Street Type</th>\n",
       "      <th>Cross-Street Name</th>\n",
       "      <th>Off-Road Description</th>\n",
       "      <th>...</th>\n",
       "      <th>Speed Limit</th>\n",
       "      <th>Driverless Vehicle</th>\n",
       "      <th>Parked Vehicle</th>\n",
       "      <th>Vehicle Year</th>\n",
       "      <th>Vehicle Make</th>\n",
       "      <th>Vehicle Model</th>\n",
       "      <th>Equipment Problems</th>\n",
       "      <th>Latitude</th>\n",
       "      <th>Longitude</th>\n",
       "      <th>Location</th>\n",
       "    </tr>\n",
       "  </thead>\n",
       "  <tbody>\n",
       "    <tr>\n",
       "      <th>0</th>\n",
       "      <td>DD5620004G</td>\n",
       "      <td>190046109</td>\n",
       "      <td>Rockville Police Departme</td>\n",
       "      <td>Property Damage Crash</td>\n",
       "      <td>09/26/2019 07:20:00 AM</td>\n",
       "      <td>NaN</td>\n",
       "      <td>NaN</td>\n",
       "      <td>NaN</td>\n",
       "      <td>NaN</td>\n",
       "      <td>PARKING LOT</td>\n",
       "      <td>...</td>\n",
       "      <td>15</td>\n",
       "      <td>No</td>\n",
       "      <td>No</td>\n",
       "      <td>2017</td>\n",
       "      <td>THOMAS</td>\n",
       "      <td>BUS</td>\n",
       "      <td>NO MISUSE</td>\n",
       "      <td>39.103518</td>\n",
       "      <td>-77.157669</td>\n",
       "      <td>(39.10351817, -77.15766933)</td>\n",
       "    </tr>\n",
       "    <tr>\n",
       "      <th>1</th>\n",
       "      <td>MCP29620057</td>\n",
       "      <td>200023865</td>\n",
       "      <td>Montgomery County Police</td>\n",
       "      <td>Property Damage Crash</td>\n",
       "      <td>06/18/2020 02:00:00 AM</td>\n",
       "      <td>County</td>\n",
       "      <td>DAIRYMAID DR</td>\n",
       "      <td>County</td>\n",
       "      <td>METZ DR</td>\n",
       "      <td>NaN</td>\n",
       "      <td>...</td>\n",
       "      <td>35</td>\n",
       "      <td>No</td>\n",
       "      <td>No</td>\n",
       "      <td>2020</td>\n",
       "      <td>UNK</td>\n",
       "      <td>UNK</td>\n",
       "      <td>UNKNOWN</td>\n",
       "      <td>39.154847</td>\n",
       "      <td>-77.271245</td>\n",
       "      <td>(39.15484667, -77.271245)</td>\n",
       "    </tr>\n",
       "    <tr>\n",
       "      <th>2</th>\n",
       "      <td>MCP2651004P</td>\n",
       "      <td>210035267</td>\n",
       "      <td>Montgomery County Police</td>\n",
       "      <td>Property Damage Crash</td>\n",
       "      <td>09/08/2021 12:30:00 PM</td>\n",
       "      <td>NaN</td>\n",
       "      <td>NaN</td>\n",
       "      <td>NaN</td>\n",
       "      <td>NaN</td>\n",
       "      <td>PARKING LOT OF 10109 COLESVILLE RD</td>\n",
       "      <td>...</td>\n",
       "      <td>0</td>\n",
       "      <td>No</td>\n",
       "      <td>No</td>\n",
       "      <td>2010</td>\n",
       "      <td>TOYOTA</td>\n",
       "      <td>SUV</td>\n",
       "      <td>UNKNOWN</td>\n",
       "      <td>39.020303</td>\n",
       "      <td>-77.011436</td>\n",
       "      <td>(39.02030267, -77.01143583)</td>\n",
       "    </tr>\n",
       "    <tr>\n",
       "      <th>3</th>\n",
       "      <td>MCP3050004K</td>\n",
       "      <td>200016465</td>\n",
       "      <td>Montgomery County Police</td>\n",
       "      <td>Property Damage Crash</td>\n",
       "      <td>04/19/2020 03:39:00 PM</td>\n",
       "      <td>County</td>\n",
       "      <td>RUSSETT RD</td>\n",
       "      <td>County</td>\n",
       "      <td>ARCTIC AVE</td>\n",
       "      <td>NaN</td>\n",
       "      <td>...</td>\n",
       "      <td>25</td>\n",
       "      <td>No</td>\n",
       "      <td>No</td>\n",
       "      <td>2004</td>\n",
       "      <td>DODGE</td>\n",
       "      <td>GRAND CARAVAN</td>\n",
       "      <td>NO MISUSE</td>\n",
       "      <td>39.080062</td>\n",
       "      <td>-77.097845</td>\n",
       "      <td>(39.08006167, -77.097845)</td>\n",
       "    </tr>\n",
       "    <tr>\n",
       "      <th>4</th>\n",
       "      <td>MCP2641001J</td>\n",
       "      <td>200016526</td>\n",
       "      <td>Montgomery County Police</td>\n",
       "      <td>Injury Crash</td>\n",
       "      <td>04/20/2020 09:15:00 AM</td>\n",
       "      <td>County</td>\n",
       "      <td>ARCHDALE RD</td>\n",
       "      <td>County</td>\n",
       "      <td>GUNNERS BRANCH RD</td>\n",
       "      <td>NaN</td>\n",
       "      <td>...</td>\n",
       "      <td>25</td>\n",
       "      <td>No</td>\n",
       "      <td>No</td>\n",
       "      <td>2006</td>\n",
       "      <td>HONDA</td>\n",
       "      <td>CR-V</td>\n",
       "      <td>UNKNOWN</td>\n",
       "      <td>39.175230</td>\n",
       "      <td>-77.241090</td>\n",
       "      <td>(39.17523, -77.24109)</td>\n",
       "    </tr>\n",
       "  </tbody>\n",
       "</table>\n",
       "<p>5 rows × 43 columns</p>\n",
       "</div>"
      ],
      "text/plain": [
       "  Report Number Local Case Number                Agency Name  \\\n",
       "0    DD5620004G         190046109  Rockville Police Departme   \n",
       "1   MCP29620057         200023865   Montgomery County Police   \n",
       "2   MCP2651004P         210035267   Montgomery County Police   \n",
       "3   MCP3050004K         200016465   Montgomery County Police   \n",
       "4   MCP2641001J         200016526   Montgomery County Police   \n",
       "\n",
       "        ACRS Report Type         Crash Date/Time Route Type     Road Name  \\\n",
       "0  Property Damage Crash  09/26/2019 07:20:00 AM        NaN           NaN   \n",
       "1  Property Damage Crash  06/18/2020 02:00:00 AM     County  DAIRYMAID DR   \n",
       "2  Property Damage Crash  09/08/2021 12:30:00 PM        NaN           NaN   \n",
       "3  Property Damage Crash  04/19/2020 03:39:00 PM     County    RUSSETT RD   \n",
       "4           Injury Crash  04/20/2020 09:15:00 AM     County   ARCHDALE RD   \n",
       "\n",
       "  Cross-Street Type  Cross-Street Name                Off-Road Description  \\\n",
       "0               NaN                NaN                         PARKING LOT   \n",
       "1            County            METZ DR                                 NaN   \n",
       "2               NaN                NaN  PARKING LOT OF 10109 COLESVILLE RD   \n",
       "3            County         ARCTIC AVE                                 NaN   \n",
       "4            County  GUNNERS BRANCH RD                                 NaN   \n",
       "\n",
       "   ... Speed Limit Driverless Vehicle Parked Vehicle Vehicle Year  \\\n",
       "0  ...          15                 No             No         2017   \n",
       "1  ...          35                 No             No         2020   \n",
       "2  ...           0                 No             No         2010   \n",
       "3  ...          25                 No             No         2004   \n",
       "4  ...          25                 No             No         2006   \n",
       "\n",
       "  Vehicle Make  Vehicle Model Equipment Problems   Latitude  Longitude  \\\n",
       "0       THOMAS            BUS          NO MISUSE  39.103518 -77.157669   \n",
       "1          UNK            UNK            UNKNOWN  39.154847 -77.271245   \n",
       "2       TOYOTA            SUV            UNKNOWN  39.020303 -77.011436   \n",
       "3        DODGE  GRAND CARAVAN          NO MISUSE  39.080062 -77.097845   \n",
       "4        HONDA           CR-V            UNKNOWN  39.175230 -77.241090   \n",
       "\n",
       "                      Location  \n",
       "0  (39.10351817, -77.15766933)  \n",
       "1    (39.15484667, -77.271245)  \n",
       "2  (39.02030267, -77.01143583)  \n",
       "3    (39.08006167, -77.097845)  \n",
       "4        (39.17523, -77.24109)  \n",
       "\n",
       "[5 rows x 43 columns]"
      ]
     },
     "execution_count": 109,
     "metadata": {},
     "output_type": "execute_result"
    }
   ],
   "source": [
    "import pandas as pd\n",
    "\n",
    "# df = pd.read_csv(\"C://Users//Zhaokai//Desktop//CIND820_capstone//project_github_repo//CIND820_capstone//data//raw//Crash_Reporting_Drivers_Data.csv\")\n",
    "df = pd.read_csv(\"../../data/raw/Crash_Reporting_Drivers_Data.csv\")\n",
    "\n",
    "# look at first few 5 rows of dataset\n",
    "df.head()"
   ]
  },
  {
   "cell_type": "code",
   "execution_count": 110,
   "metadata": {},
   "outputs": [
    {
     "data": {
      "text/plain": [
       "(159357, 43)"
      ]
     },
     "execution_count": 110,
     "metadata": {},
     "output_type": "execute_result"
    }
   ],
   "source": [
    "# number of rows, number of columns for dataset\n",
    "nrow,ncol=df.shape\n",
    "nrow,ncol"
   ]
  },
  {
   "cell_type": "code",
   "execution_count": 111,
   "metadata": {},
   "outputs": [
    {
     "name": "stdout",
     "output_type": "stream",
     "text": [
      "<class 'pandas.core.frame.DataFrame'>\n",
      "RangeIndex: 159357 entries, 0 to 159356\n",
      "Data columns (total 43 columns):\n",
      " #   Column                          Non-Null Count   Dtype  \n",
      "---  ------                          --------------   -----  \n",
      " 0   Report Number                   159357 non-null  object \n",
      " 1   Local Case Number               159357 non-null  object \n",
      " 2   Agency Name                     159357 non-null  object \n",
      " 3   ACRS Report Type                159357 non-null  object \n",
      " 4   Crash Date/Time                 159357 non-null  object \n",
      " 5   Route Type                      143710 non-null  object \n",
      " 6   Road Name                       144586 non-null  object \n",
      " 7   Cross-Street Type               143684 non-null  object \n",
      " 8   Cross-Street Name               144577 non-null  object \n",
      " 9   Off-Road Description            14769 non-null   object \n",
      " 10  Municipality                    17700 non-null   object \n",
      " 11  Related Non-Motorist            5019 non-null    object \n",
      " 12  Collision Type                  158820 non-null  object \n",
      " 13  Weather                         146879 non-null  object \n",
      " 14  Surface Condition               140664 non-null  object \n",
      " 15  Light                           158035 non-null  object \n",
      " 16  Traffic Control                 135447 non-null  object \n",
      " 17  Driver Substance Abuse          130386 non-null  object \n",
      " 18  Non-Motorist Substance Abuse    3976 non-null    object \n",
      " 19  Person ID                       159357 non-null  object \n",
      " 20  Driver At Fault                 159357 non-null  object \n",
      " 21  Injury Severity                 159357 non-null  object \n",
      " 22  Circumstance                    29401 non-null   object \n",
      " 23  Driver Distracted By            159357 non-null  object \n",
      " 24  Drivers License State           150465 non-null  object \n",
      " 25  Vehicle ID                      159357 non-null  object \n",
      " 26  Vehicle Damage Extent           159077 non-null  object \n",
      " 27  Vehicle First Impact Location   159201 non-null  object \n",
      " 28  Vehicle Second Impact Location  159101 non-null  object \n",
      " 29  Vehicle Body Type               156923 non-null  object \n",
      " 30  Vehicle Movement                159018 non-null  object \n",
      " 31  Vehicle Continuing Dir          156880 non-null  object \n",
      " 32  Vehicle Going Dir               156880 non-null  object \n",
      " 33  Speed Limit                     159357 non-null  int64  \n",
      " 34  Driverless Vehicle              159357 non-null  object \n",
      " 35  Parked Vehicle                  159357 non-null  object \n",
      " 36  Vehicle Year                    159357 non-null  int64  \n",
      " 37  Vehicle Make                    159335 non-null  object \n",
      " 38  Vehicle Model                   159295 non-null  object \n",
      " 39  Equipment Problems              127136 non-null  object \n",
      " 40  Latitude                        159357 non-null  float64\n",
      " 41  Longitude                       159357 non-null  float64\n",
      " 42  Location                        159357 non-null  object \n",
      "dtypes: float64(2), int64(2), object(39)\n",
      "memory usage: 52.3+ MB\n"
     ]
    }
   ],
   "source": [
    "# We have following data types of variables float64(2), int64(2), object(39). \n",
    "df.info()"
   ]
  },
  {
   "cell_type": "code",
   "execution_count": 112,
   "metadata": {},
   "outputs": [
    {
     "name": "stdout",
     "output_type": "stream",
     "text": [
      "Property Damage Crash    101048\n",
      "Injury Crash              57913\n",
      "Fatal Crash                 396\n",
      "Name: ACRS Report Type, dtype: int64\n",
      "<class 'pandas.core.frame.DataFrame'>\n",
      "RangeIndex: 159357 entries, 0 to 159356\n",
      "Data columns (total 13 columns):\n",
      " #   Column                  Non-Null Count   Dtype \n",
      "---  ------                  --------------   ----- \n",
      " 0   Crash Date/Time         159357 non-null  object\n",
      " 1   Route Type              143710 non-null  object\n",
      " 2   Collision Type          158820 non-null  object\n",
      " 3   Weather                 146879 non-null  object\n",
      " 4   Surface Condition       140664 non-null  object\n",
      " 5   Light                   158035 non-null  object\n",
      " 6   Traffic Control         135447 non-null  object\n",
      " 7   Driver Substance Abuse  130386 non-null  object\n",
      " 8   Driver At Fault         159357 non-null  object\n",
      " 9   Injury Severity         159357 non-null  object\n",
      " 10  Driver Distracted By    159357 non-null  object\n",
      " 11  Speed Limit             159357 non-null  int64 \n",
      " 12  Location                159357 non-null  object\n",
      "dtypes: int64(1), object(12)\n",
      "memory usage: 15.8+ MB\n"
     ]
    }
   ],
   "source": [
    "# according to the output of last code section df.info(), we will remove columns with small amount of non-null count values\n",
    "new_df=df.drop([\"Off-Road Description\",\"Municipality\",\"Related Non-Motorist\",\"Non-Motorist Substance Abuse\",\"Circumstance\"],axis=1)\n",
    "\n",
    "# we will also remove \"Driverless Vehicle\", according to its values distribution below, we can tell this column is meaningless.\n",
    "# df[\"Driverless Vehicle\"].value_counts()\n",
    "# No         158668\n",
    "# Unknown       689\n",
    "# Name: Driverless Vehicle, dtype: int64\n",
    "new_df=new_df.drop([\"Driverless Vehicle\"],axis=1)\n",
    "\n",
    "# we also remove columns that are not related to this study:\"Report Number\", \"Local Case Number\", \"Agency Name\",\"Person ID\", \"Vehicle ID\",\"Latitude\",\"Longitude\"\n",
    "new_df=new_df.drop([\"Road Name\",\"Cross-Street Type\",\"Cross-Street Name\",\"Report Number\",\"Local Case Number\",\"Agency Name\",\n",
    "        \"Person ID\", \"Drivers License State\",\"Vehicle ID\",\"Latitude\",\"Longitude\"],axis=1)\n",
    "\n",
    "# During the data cleaning stage, the researcher found out most values from the columns related to the vehicle category are\n",
    "# corrupted and contaminated. As a consequence, the researcher had to give up the factors under the vehicle categories. \n",
    "new_df=new_df.drop([\"Vehicle Year\",\"Vehicle Make\",\"Vehicle Model\",\"Vehicle Going Dir\",\"Vehicle Continuing Dir\",\n",
    "                    \"Vehicle Movement\",\"Vehicle Body Type\",\"Vehicle Second Impact Location\",\"Vehicle First Impact Location\",\n",
    "                    \"Parked Vehicle\",\"Vehicle Damage Extent\",\"Equipment Problems\"],axis=1)\n",
    "\n",
    "# Considering the ACRS Report Type is more similar to another target attribute, this study\"s class attribute is injury severity.\n",
    "# As a result, this column needs to be removed.  \n",
    "print(new_df[\"ACRS Report Type\"].value_counts())\n",
    "new_df=new_df.drop([\"ACRS Report Type\"],axis=1)\n",
    "\n",
    "new_df.info()\n",
    "#new_df.head()"
   ]
  },
  {
   "cell_type": "code",
   "execution_count": 113,
   "metadata": {},
   "outputs": [
    {
     "data": {
      "text/plain": [
       "12/10/2018 06:10:00 PM    11\n",
       "06/09/2020 06:53:00 PM    10\n",
       "03/03/2017 06:00:00 AM    10\n",
       "03/28/2019 09:30:00 AM    10\n",
       "05/17/2017 03:36:00 PM     9\n",
       "                          ..\n",
       "09/10/2015 10:30:00 PM     1\n",
       "06/30/2018 02:02:00 AM     1\n",
       "08/23/2018 08:32:00 PM     1\n",
       "02/20/2023 02:05:00 PM     1\n",
       "05/09/2023 02:56:00 AM     1\n",
       "Name: Crash Date/Time, Length: 87470, dtype: int64"
      ]
     },
     "execution_count": 113,
     "metadata": {},
     "output_type": "execute_result"
    }
   ],
   "source": [
    "new_df[\"Crash Date/Time\"].value_counts()\n",
    "# There is no missing value for this field. \n",
    "# However, the Crash Date/Time can not be used directly for study, \n",
    "# because the length is too big to manage\n",
    "# So, it is a more reasonable way to convert this column into two new columns\n",
    "# 1. day of the week\n",
    "# 2. time of the day"
   ]
  },
  {
   "cell_type": "code",
   "execution_count": 114,
   "metadata": {},
   "outputs": [
    {
     "data": {
      "text/plain": [
       "Friday       25701\n",
       "Tuesday      24992\n",
       "Thursday     24831\n",
       "Wednesday    24554\n",
       "Monday       23034\n",
       "Saturday     19790\n",
       "Sunday       16455\n",
       "Name: Day of Week, dtype: int64"
      ]
     },
     "execution_count": 114,
     "metadata": {},
     "output_type": "execute_result"
    }
   ],
   "source": [
    "# Adding column Day of Week\n",
    "from datetime import datetime\n",
    "def convert_to_day_of_week(date_format:str,date_string:str):\n",
    "    date_object = datetime.strptime(date_string,date_format)\n",
    "    day_of_week = date_object.weekday()\n",
    "    day_name_list = [\"Monday\", \"Tuesday\", \"Wednesday\", \"Thursday\", \"Friday\", \"Saturday\", \"Sunday\"]\n",
    "    day_name = day_name_list[day_of_week]\n",
    "    return day_name\n",
    "\n",
    "def apply_conversion(datetime):\n",
    "    return convert_to_day_of_week(\"%m/%d/%Y %I:%M:%S %p\", datetime)\n",
    "\n",
    "new_df[\"Day of Week\"]=new_df[\"Crash Date/Time\"].apply(apply_conversion)\n",
    "\n",
    "new_df[\"Day of Week\"].value_counts()\n"
   ]
  },
  {
   "cell_type": "code",
   "execution_count": 115,
   "metadata": {},
   "outputs": [
    {
     "data": {
      "text/plain": [
       "afternoon    65690\n",
       "morning      45568\n",
       "evening      37233\n",
       "dawn         10866\n",
       "Name: Time of Day, dtype: int64"
      ]
     },
     "execution_count": 115,
     "metadata": {},
     "output_type": "execute_result"
    }
   ],
   "source": [
    "# Adding column Time of Day\n",
    "\n",
    "# from scripts.my_utils.date_time_utils import convert_to_time_of_day\n",
    "from datetime import datetime\n",
    "def convert_to_time_of_day(date_format:str,date_string:str):\n",
    "    date_object = datetime.strptime(date_string,date_format)\n",
    "    hour = date_object.hour\n",
    "    if 0<= hour <6:\n",
    "        return \"dawn\"\n",
    "    elif 6 <= hour < 12:\n",
    "        return \"morning\"\n",
    "    elif 12<= hour <18:\n",
    "        return \"afternoon\"\n",
    "    else: \n",
    "        return \"evening\"\n",
    "\n",
    "def apply_conversion(datetime):\n",
    "    return convert_to_time_of_day(\"%m/%d/%Y %I:%M:%S %p\", datetime)\n",
    "\n",
    "new_df[\"Time of Day\"]=new_df[\"Crash Date/Time\"].apply(apply_conversion)\n",
    "new_df[\"Time of Day\"].value_counts()"
   ]
  },
  {
   "cell_type": "code",
   "execution_count": 116,
   "metadata": {},
   "outputs": [
    {
     "name": "stdout",
     "output_type": "stream",
     "text": [
      "<class 'pandas.core.frame.DataFrame'>\n",
      "RangeIndex: 159357 entries, 0 to 159356\n",
      "Data columns (total 14 columns):\n",
      " #   Column                  Non-Null Count   Dtype \n",
      "---  ------                  --------------   ----- \n",
      " 0   Route Type              143710 non-null  object\n",
      " 1   Collision Type          158820 non-null  object\n",
      " 2   Weather                 146879 non-null  object\n",
      " 3   Surface Condition       140664 non-null  object\n",
      " 4   Light                   158035 non-null  object\n",
      " 5   Traffic Control         135447 non-null  object\n",
      " 6   Driver Substance Abuse  130386 non-null  object\n",
      " 7   Driver At Fault         159357 non-null  object\n",
      " 8   Injury Severity         159357 non-null  object\n",
      " 9   Driver Distracted By    159357 non-null  object\n",
      " 10  Speed Limit             159357 non-null  int64 \n",
      " 11  Location                159357 non-null  object\n",
      " 12  Day of Week             159357 non-null  object\n",
      " 13  Time of Day             159357 non-null  object\n",
      "dtypes: int64(1), object(13)\n",
      "memory usage: 17.0+ MB\n"
     ]
    }
   ],
   "source": [
    "# Now the Time of Day and Day of Week Columns are generated. \n",
    "# Therefore, the Crash Date/Time can be removed.\n",
    "new_df = new_df.drop([\"Crash Date/Time\"],axis=1)\n",
    "new_df.info()"
   ]
  },
  {
   "cell_type": "code",
   "execution_count": 121,
   "metadata": {},
   "outputs": [
    {
     "name": "stdout",
     "output_type": "stream",
     "text": [
      "Maryland (State)      71500\n",
      "County                51339\n",
      "Municipality           8713\n",
      "US (State)             6926\n",
      "Interstate (State)     2985\n",
      "Ramp                    523\n",
      "Service Road             40\n",
      "Name: Route Type, dtype: int64\n",
      "---------------After removal---------------\n",
      "Maryland (State)      71500\n",
      "County                51339\n",
      "Municipality           8713\n",
      "US (State)             6926\n",
      "Interstate (State)     2985\n",
      "Ramp                    523\n",
      "Service Road             40\n",
      "Name: Route Type, dtype: int64\n"
     ]
    }
   ],
   "source": [
    "print(new_df[\"Route Type\"].value_counts())\n",
    "# Based on the output of the value counts,\n",
    "# There are three types of rows that needed to be removed\n",
    "# Due to the ambiguous meaning of the value \n",
    "# 1. other public roadway\n",
    "# 2. government\n",
    "# 3. unknown\n",
    "\n",
    "new_df=new_df.loc[(new_df[\"Route Type\"]!=\"Government\")\n",
    "           &(new_df[\"Route Type\"]!=\"Other Public Roadway\")\n",
    "           &(new_df[\"Route Type\"]!=\"Unknown\")]\n",
    "print(\"---------------After removal---------------\")\n",
    "print(new_df[\"Route Type\"].value_counts())"
   ]
  },
  {
   "cell_type": "code",
   "execution_count": 123,
   "metadata": {},
   "outputs": [
    {
     "name": "stdout",
     "output_type": "stream",
     "text": [
      "SAME DIR REAR END               51626\n",
      "STRAIGHT MOVEMENT ANGLE         27621\n",
      "OTHER                           17384\n",
      "SAME DIRECTION SIDESWIPE        14813\n",
      "SINGLE VEHICLE                  14437\n",
      "HEAD ON LEFT TURN               11723\n",
      "SAME DIRECTION RIGHT TURN        3479\n",
      "SAME DIRECTION LEFT TURN         3425\n",
      "HEAD ON                          3417\n",
      "OPPOSITE DIRECTION SIDESWIPE     2618\n",
      "ANGLE MEETS LEFT TURN            1870\n",
      "ANGLE MEETS RIGHT TURN           1114\n",
      "SAME DIR REND LEFT TURN           685\n",
      "SAME DIR REND RIGHT TURN          683\n",
      "UNKNOWN                           667\n",
      "SAME DIR BOTH LEFT TURN           648\n",
      "ANGLE MEETS LEFT HEAD ON          639\n",
      "OPPOSITE DIR BOTH LEFT TURN       294\n",
      "Name: Collision Type, dtype: int64\n",
      "---------------After removal---------------\n",
      "SAME DIR REAR END               51626\n",
      "STRAIGHT MOVEMENT ANGLE         27621\n",
      "OTHER                           17384\n",
      "SAME DIRECTION SIDESWIPE        14813\n",
      "SINGLE VEHICLE                  14437\n",
      "HEAD ON LEFT TURN               11723\n",
      "SAME DIRECTION RIGHT TURN        3479\n",
      "SAME DIRECTION LEFT TURN         3425\n",
      "HEAD ON                          3417\n",
      "OPPOSITE DIRECTION SIDESWIPE     2618\n",
      "ANGLE MEETS LEFT TURN            1870\n",
      "ANGLE MEETS RIGHT TURN           1114\n",
      "SAME DIR REND LEFT TURN           685\n",
      "SAME DIR REND RIGHT TURN          683\n",
      "SAME DIR BOTH LEFT TURN           648\n",
      "ANGLE MEETS LEFT HEAD ON          639\n",
      "OPPOSITE DIR BOTH LEFT TURN       294\n",
      "Name: Collision Type, dtype: int64\n"
     ]
    }
   ],
   "source": [
    "print(new_df[\"Collision Type\"].value_counts())\n",
    "# Based on the output of the value counts,\n",
    "# The rows contains unknown in collision type column will be removed\n",
    "new_df=new_df.loc[(new_df[\"Collision Type\"]!=\"UNKNOWN\")]\n",
    "# The reason why we did not impute the \"OTHER\" value\n",
    "# It could be a type different from all these types of accidents\n",
    "# Other here is meaningful\n",
    "print(\"---------------After removal---------------\")\n",
    "print(new_df[\"Collision Type\"].value_counts())"
   ]
  },
  {
   "cell_type": "code",
   "execution_count": 124,
   "metadata": {},
   "outputs": [
    {
     "name": "stdout",
     "output_type": "stream",
     "text": [
      "CLEAR                       106110\n",
      "RAINING                      18884\n",
      "CLOUDY                       15991\n",
      "SNOW                          1401\n",
      "FOGGY                          624\n",
      "UNKNOWN                        517\n",
      "WINTRY MIX                     381\n",
      "OTHER                          337\n",
      "SLEET                          209\n",
      "SEVERE WINDS                   153\n",
      "BLOWING SNOW                   111\n",
      "BLOWING SAND, SOIL, DIRT        13\n",
      "Name: Weather, dtype: int64\n",
      "---------------After removal---------------\n",
      "CLEAR                       106110\n",
      "RAINING                      18884\n",
      "CLOUDY                       15991\n",
      "SNOW                          1401\n",
      "FOGGY                          624\n",
      "WINTRY MIX                     381\n",
      "SLEET                          209\n",
      "SEVERE WINDS                   153\n",
      "BLOWING SNOW                   111\n",
      "BLOWING SAND, SOIL, DIRT        13\n",
      "Name: Weather, dtype: int64\n"
     ]
    }
   ],
   "source": [
    "print(new_df[\"Weather\"].value_counts())\n",
    "new_df=new_df.loc[(new_df[\"Weather\"]!=\"UNKNOWN\")&\n",
    "                  (new_df[\"Weather\"]!=\"OTHER\")]\n",
    "print(\"---------------After removal---------------\")\n",
    "print(new_df[\"Weather\"].value_counts())"
   ]
  },
  {
   "cell_type": "code",
   "execution_count": 125,
   "metadata": {},
   "outputs": [
    {
     "name": "stdout",
     "output_type": "stream",
     "text": [
      "DRY                       109664\n",
      "WET                        25982\n",
      "ICE                          936\n",
      "SNOW                         917\n",
      "UNKNOWN                      211\n",
      "SLUSH                        192\n",
      "OTHER                        155\n",
      "MUD, DIRT, GRAVEL             45\n",
      "WATER(STANDING/MOVING)        37\n",
      "OIL                           24\n",
      "SAND                           4\n",
      "Name: Surface Condition, dtype: int64\n",
      "---------------After removal---------------\n",
      "DRY                       109664\n",
      "WET                        25982\n",
      "ICE                          936\n",
      "SNOW                         917\n",
      "SLUSH                        192\n",
      "MUD, DIRT, GRAVEL             45\n",
      "WATER(STANDING/MOVING)        37\n",
      "OIL                           24\n",
      "SAND                           4\n",
      "Name: Surface Condition, dtype: int64\n"
     ]
    }
   ],
   "source": [
    "print(new_df[\"Surface Condition\"].value_counts())\n",
    "new_df=new_df.loc[(new_df[\"Surface Condition\"]!=\"UNKNOWN\")&\n",
    "                  (new_df[\"Surface Condition\"]!=\"OTHER\")]\n",
    "print(\"---------------After removal---------------\")\n",
    "print(new_df[\"Surface Condition\"].value_counts())"
   ]
  },
  {
   "cell_type": "code",
   "execution_count": 126,
   "metadata": {},
   "outputs": [
    {
     "name": "stdout",
     "output_type": "stream",
     "text": [
      "DAYLIGHT                    105499\n",
      "DARK LIGHTS ON               35966\n",
      "DARK NO LIGHTS                4486\n",
      "DUSK                          3604\n",
      "DAWN                          3090\n",
      "DARK -- UNKNOWN LIGHTING      1285\n",
      "OTHER                          315\n",
      "UNKNOWN                        266\n",
      "Name: Light, dtype: int64\n",
      "---------------After removal---------------\n"
     ]
    },
    {
     "data": {
      "text/plain": [
       "DAYLIGHT          105499\n",
       "DARK LIGHTS ON     35966\n",
       "DARK NO LIGHTS      4486\n",
       "DUSK                3604\n",
       "DAWN                3090\n",
       "Name: Light, dtype: int64"
      ]
     },
     "execution_count": 126,
     "metadata": {},
     "output_type": "execute_result"
    }
   ],
   "source": [
    "print(new_df[\"Light\"].value_counts())\n",
    "new_df=new_df.loc[(new_df[\"Light\"]!=\"UNKNOWN\")&\n",
    "                  (new_df[\"Light\"]!=\"OTHER\")&\n",
    "                  (new_df[\"Light\"]!=\"DARK -- UNKNOWN LIGHTING\")]\n",
    "print(\"---------------After removal---------------\")\n",
    "new_df[\"Light\"].value_counts()"
   ]
  },
  {
   "cell_type": "code",
   "execution_count": 127,
   "metadata": {},
   "outputs": [
    {
     "name": "stdout",
     "output_type": "stream",
     "text": [
      "NO CONTROLS                60897\n",
      "TRAFFIC SIGNAL             53135\n",
      "STOP SIGN                  11159\n",
      "FLASHING TRAFFIC SIGNAL     1890\n",
      "OTHER                       1793\n",
      "YIELD SIGN                  1620\n",
      "PERSON                       256\n",
      "WARNING SIGN                 146\n",
      "UNKNOWN                      120\n",
      "RAILWAY CROSSING DEVICE       42\n",
      "SCHOOL ZONE SIGN DEVICE       14\n",
      "Name: Traffic Control, dtype: int64\n",
      "---------------After removal---------------\n"
     ]
    },
    {
     "data": {
      "text/plain": [
       "NO CONTROLS                60897\n",
       "TRAFFIC SIGNAL             53135\n",
       "STOP SIGN                  11159\n",
       "FLASHING TRAFFIC SIGNAL     1890\n",
       "YIELD SIGN                  1620\n",
       "PERSON                       256\n",
       "WARNING SIGN                 146\n",
       "RAILWAY CROSSING DEVICE       42\n",
       "SCHOOL ZONE SIGN DEVICE       14\n",
       "Name: Traffic Control, dtype: int64"
      ]
     },
     "execution_count": 127,
     "metadata": {},
     "output_type": "execute_result"
    }
   ],
   "source": [
    "print(new_df[\"Traffic Control\"].value_counts())\n",
    "new_df=new_df.loc[(new_df[\"Traffic Control\"]!=\"UNKNOWN\")&\n",
    "                  (new_df[\"Traffic Control\"]!=\"OTHER\")\n",
    "                  ]\n",
    "print(\"---------------After removal---------------\")\n",
    "new_df[\"Traffic Control\"].value_counts()"
   ]
  },
  {
   "cell_type": "code",
   "execution_count": 129,
   "metadata": {},
   "outputs": [
    {
     "name": "stdout",
     "output_type": "stream",
     "text": [
      "NONE DETECTED                 109687\n",
      "UNKNOWN                         9467\n",
      "ALCOHOL PRESENT                 3609\n",
      "ALCOHOL CONTRIBUTED             1269\n",
      "ILLEGAL DRUG PRESENT             238\n",
      "MEDICATION PRESENT               108\n",
      "ILLEGAL DRUG CONTRIBUTED          89\n",
      "COMBINED SUBSTANCE PRESENT        82\n",
      "MEDICATION CONTRIBUTED            57\n",
      "OTHER                             57\n",
      "COMBINATION CONTRIBUTED           43\n",
      "Name: Driver Substance Abuse, dtype: int64\n",
      "---------------After removal---------------\n",
      "NONE DETECTED                 109687\n",
      "UNKNOWN                         9467\n",
      "ALCOHOL PRESENT                 3609\n",
      "ALCOHOL CONTRIBUTED             1269\n",
      "ILLEGAL DRUG PRESENT             238\n",
      "MEDICATION PRESENT               108\n",
      "ILLEGAL DRUG CONTRIBUTED          89\n",
      "COMBINED SUBSTANCE PRESENT        82\n",
      "MEDICATION CONTRIBUTED            57\n",
      "COMBINATION CONTRIBUTED           43\n",
      "Name: Driver Substance Abuse, dtype: int64\n",
      "---------------After Converting---------------\n",
      "NONE DETECTED    109687\n",
      "DETECTED          32796\n",
      "UNKNOWN            9467\n",
      "Name: Driver Substance Abuse, dtype: int64\n",
      "---------------After imputation---------------\n",
      "NONE DETECTED    116894\n",
      "DETECTED          35056\n",
      "Name: Driver Substance Abuse, dtype: int64\n"
     ]
    }
   ],
   "source": [
    "print(new_df[\"Driver Substance Abuse\"].value_counts())\n",
    "new_df=new_df.loc[(new_df[\"Driver Substance Abuse\"]!=\"OTHER\")]\n",
    "print(\"---------------After removal---------------\")\n",
    "print(new_df[\"Driver Substance Abuse\"].value_counts())\n",
    "\n",
    "\n",
    "def convert_substance_abuse_levels(src):\n",
    "    if(src == \"NONE DETECTED\" or src ==\"UNKNOWN\" or src == None):\n",
    "        return src\n",
    "    else:\n",
    "        return\"DETECTED\"\n",
    "\n",
    "new_df[\"Driver Substance Abuse\"]=new_df[\"Driver Substance Abuse\"].map(convert_substance_abuse_levels)\n",
    "print(\"---------------After Converting---------------\")\n",
    "print(new_df[\"Driver Substance Abuse\"].value_counts())\n",
    "\n",
    "\n",
    "new_df[\"Driver Substance Abuse\"] = new_df[\"Driver Substance Abuse\"].replace(\"UNKNOWN\",None)\n",
    "new_df[\"Driver Substance Abuse\"] = new_df[\"Driver Substance Abuse\"].fillna(method=\"ffill\")\n",
    "print(\"---------------After imputation---------------\")\n",
    "print(new_df[\"Driver Substance Abuse\"] .value_counts())\n",
    "\n"
   ]
  },
  {
   "cell_type": "code",
   "execution_count": 131,
   "metadata": {},
   "outputs": [
    {
     "name": "stdout",
     "output_type": "stream",
     "text": [
      "Yes        81064\n",
      "No         67055\n",
      "Unknown     3831\n",
      "Name: Driver At Fault, dtype: int64\n",
      "---------------After removal---------------\n"
     ]
    },
    {
     "data": {
      "text/plain": [
       "Yes    81064\n",
       "No     67055\n",
       "Name: Driver At Fault, dtype: int64"
      ]
     },
     "execution_count": 131,
     "metadata": {},
     "output_type": "execute_result"
    }
   ],
   "source": [
    "print(new_df[\"Driver At Fault\"].value_counts())\n",
    "new_df=new_df.loc[(new_df[\"Driver At Fault\"]!=\"Unknown\")]\n",
    "print(\"---------------After removal---------------\")\n",
    "new_df[\"Driver At Fault\"].value_counts()"
   ]
  },
  {
   "cell_type": "code",
   "execution_count": 133,
   "metadata": {},
   "outputs": [
    {
     "name": "stdout",
     "output_type": "stream",
     "text": [
      "NOT DISTRACTED                                       93773\n",
      "UNKNOWN                                              25964\n",
      "LOOKED BUT DID NOT SEE                               18661\n",
      "INATTENTIVE OR LOST IN THOUGHT                        3790\n",
      "OTHER DISTRACTION                                     2825\n",
      "DISTRACTED BY OUTSIDE PERSON OBJECT OR EVENT           855\n",
      "BY OTHER OCCUPANTS                                     381\n",
      "OTHER CELLULAR PHONE RELATED                           332\n",
      "OTHER ELECTRONIC DEVICE (NAVIGATIONAL PALM PILOT)      301\n",
      "TALKING OR LISTENING TO CELLULAR PHONE                 261\n",
      "NO DRIVER PRESENT                                      221\n",
      "BY MOVING OBJECT IN VEHICLE                            191\n",
      "EATING OR DRINKING                                     177\n",
      "ADJUSTING AUDIO AND OR CLIMATE CONTROLS                123\n",
      "USING OTHER DEVICE CONTROLS INTEGRAL TO VEHICLE         80\n",
      "TEXTING FROM A CELLULAR PHONE                           59\n",
      "USING DEVICE OBJECT BROUGHT INTO VEHICLE                56\n",
      "DIALING CELLULAR PHONE                                  44\n",
      "SMOKING RELATED                                         25\n",
      "Name: Driver Distracted By, dtype: int64\n",
      "---------------After removal---------------\n",
      "NOT DISTRACTED    93773\n",
      "DISTRACTED        28382\n",
      "UNKNOWN           25964\n",
      "Name: Driver Distracted By, dtype: int64\n",
      "---------------After imputation---------------\n"
     ]
    },
    {
     "data": {
      "text/plain": [
       "NOT DISTRACTED    113632\n",
       "DISTRACTED         34487\n",
       "Name: Driver Distracted By, dtype: int64"
      ]
     },
     "execution_count": 133,
     "metadata": {},
     "output_type": "execute_result"
    }
   ],
   "source": [
    "print(new_df[\"Driver Distracted By\"].value_counts())\n",
    "\n",
    "def convert_distracted_levels(src):\n",
    "    if(src == \"NOT DISTRACTED\" or src ==\"UNKNOWN\" or src == None):\n",
    "        return src\n",
    "    else:\n",
    "        return\"DISTRACTED\"\n",
    "\n",
    "new_df[\"Driver Distracted By\"]=new_df[\"Driver Distracted By\"].map(convert_distracted_levels)\n",
    "print(\"---------------After removal---------------\")\n",
    "print(new_df[\"Driver Distracted By\"].value_counts())\n",
    "\n",
    "# Imputes unknown field. Using forward imputation. \n",
    "print(\"---------------After imputation---------------\")\n",
    "new_df[\"Driver Distracted By\"] = new_df[\"Driver Distracted By\"].replace(\"UNKNOWN\",None)\n",
    "new_df[\"Driver Distracted By\"] = new_df[\"Driver Distracted By\"].fillna(method=\"ffill\")\n",
    "new_df[\"Driver Distracted By\"] .value_counts()"
   ]
  },
  {
   "cell_type": "code",
   "execution_count": 135,
   "metadata": {},
   "outputs": [
    {
     "name": "stdout",
     "output_type": "stream",
     "text": [
      "35    43337\n",
      "40    29880\n",
      "30    20084\n",
      "25    19985\n",
      "45    11162\n",
      "15     5056\n",
      "50     4184\n",
      "0      3930\n",
      "55     3534\n",
      "5      3424\n",
      "10     2499\n",
      "20      925\n",
      "60       62\n",
      "65       52\n",
      "70        5\n",
      "Name: Speed Limit, dtype: int64\n",
      "---------------After convert---------------\n",
      "30-40    93301\n",
      "15-25    25966\n",
      "45-55    18880\n",
      "0-10      5923\n",
      "60-70      119\n",
      "Name: Speed Limit, dtype: int64\n"
     ]
    }
   ],
   "source": [
    "# summary statistics for numeric attributes\n",
    "new_df.describe()\n",
    "# Although \"Speed Limit\" attribute is a numeric attribute\n",
    "# The data is organized as categorical. \n",
    "# We will reduce levels from 15 to 5.\n",
    "print(new_df[\"Speed Limit\"].value_counts())\n",
    "levels = [\"0-10\",\"15-25\",\"30-40\",\"45-55\",\"60-70\"]\n",
    "bins = [0, 10, 25, 40, 55, 70]\n",
    "new_df[\"Speed Limit\"] = pd.cut(new_df[\"Speed Limit\"], bins= bins,labels=levels)\n",
    "new_df[\"Speed Limit\"] = new_df[\"Speed Limit\"].astype(\"category\")\n",
    "print(\"---------------After convert---------------\") \n",
    "print(new_df[\"Speed Limit\"].value_counts())\n",
    "\n",
    "\n",
    "\n",
    "\n",
    "\n"
   ]
  },
  {
   "cell_type": "code",
   "execution_count": null,
   "metadata": {},
   "outputs": [],
   "source": [
    "# hint: use this before you print large amount of data\n",
    "pd.set_option(\"display.max_rows\", 500)\n",
    "pd.set_option(\"display.max_columns\", 500)\n",
    "pd.set_option(\"display.width\", 1000)"
   ]
  },
  {
   "cell_type": "code",
   "execution_count": 136,
   "metadata": {},
   "outputs": [
    {
     "name": "stdout",
     "output_type": "stream",
     "text": [
      "<class 'pandas.core.frame.DataFrame'>\n",
      "Int64Index: 105379 entries, 3 to 159356\n",
      "Data columns (total 14 columns):\n",
      " #   Column                  Non-Null Count   Dtype   \n",
      "---  ------                  --------------   -----   \n",
      " 0   Route Type              105379 non-null  object  \n",
      " 1   Collision Type          105379 non-null  object  \n",
      " 2   Weather                 105379 non-null  object  \n",
      " 3   Surface Condition       105379 non-null  object  \n",
      " 4   Light                   105379 non-null  object  \n",
      " 5   Traffic Control         105379 non-null  object  \n",
      " 6   Driver Substance Abuse  105379 non-null  object  \n",
      " 7   Driver At Fault         105379 non-null  object  \n",
      " 8   Injury Severity         105379 non-null  object  \n",
      " 9   Driver Distracted By    105379 non-null  object  \n",
      " 10  Speed Limit             105379 non-null  category\n",
      " 11  Location                105379 non-null  object  \n",
      " 12  Day of Week             105379 non-null  object  \n",
      " 13  Time of Day             105379 non-null  object  \n",
      "dtypes: category(1), object(13)\n",
      "memory usage: 11.4+ MB\n"
     ]
    }
   ],
   "source": [
    "new_df = new_df.dropna(how=\"any\")\n",
    "new_df.info()"
   ]
  },
  {
   "cell_type": "code",
   "execution_count": 137,
   "metadata": {},
   "outputs": [
    {
     "data": {
      "text/plain": [
       "NO APPARENT INJURY          84376\n",
       "POSSIBLE INJURY             11873\n",
       "SUSPECTED MINOR INJURY       8108\n",
       "SUSPECTED SERIOUS INJURY      956\n",
       "FATAL INJURY                   66\n",
       "Name: Injury Severity, dtype: int64"
      ]
     },
     "execution_count": 137,
     "metadata": {},
     "output_type": "execute_result"
    }
   ],
   "source": [
    "# Count the occurrences of each unique value in the class attribute \"Injury Severity\"\n",
    "new_df[\"Injury Severity\"].value_counts()\n",
    "\n"
   ]
  },
  {
   "cell_type": "code",
   "execution_count": 138,
   "metadata": {},
   "outputs": [
    {
     "data": {
      "text/plain": [
       "No Injury         84376\n",
       "Minor Injury      19981\n",
       "Serious Injury     1022\n",
       "Name: Injury Severity, dtype: int64"
      ]
     },
     "execution_count": 138,
     "metadata": {},
     "output_type": "execute_result"
    }
   ],
   "source": [
    "# according to the output of last code section, 130578(NO APPARENT INJURY)/159357(total rows) = 81.9% \n",
    "# we can tell that the multi-class problem has imbalanced class distributions. reducing number of classes could help address the issue. we will deal with\n",
    "# imbalanced class distributions later.\n",
    "# A large number of classes can increase the complexity of the classification problem, by reducing the number of classes, we can simplify the problem\n",
    "# and make it more manageable for the model to learn the distinguishing features, which may lead to better performance.\n",
    "\n",
    "# for target variable \"Injury Severity\", convert 5 classes to 3 classes\n",
    "new_df[\"Injury Severity\"]=new_df[\"Injury Severity\"].map({\"NO APPARENT INJURY\":\"No Injury\",\"POSSIBLE INJURY\":\"Minor Injury\",\"SUSPECTED MINOR INJURY\":\"Minor Injury\",\"SUSPECTED SERIOUS INJURY\":\"Serious Injury\",\n",
    "                                             \"FATAL INJURY\":\"Serious Injury\"})\n",
    "new_df[\"Injury Severity\"].value_counts()"
   ]
  },
  {
   "cell_type": "code",
   "execution_count": 140,
   "metadata": {},
   "outputs": [
    {
     "data": {
      "text/plain": [
       "<AxesSubplot:>"
      ]
     },
     "execution_count": 140,
     "metadata": {},
     "output_type": "execute_result"
    },
    {
     "data": {
      "image/png": "[encoded data removed]",
      "text/plain": [
       "<Figure size 640x480 with 1 Axes>"
      ]
     },
     "metadata": {},
     "output_type": "display_data"
    }
   ],
   "source": [
    "# Univariate visualization for class attribute\n",
    "class_counts = new_df[\"Injury Severity\"].value_counts()\n",
    "class_counts.plot.bar(ylim=[0,90000])\n"
   ]
  },
  {
   "cell_type": "code",
   "execution_count": 141,
   "metadata": {},
   "outputs": [
    {
     "data": {
      "image/png": "[encoded data removed]",
      "text/plain": [
       "<Figure size 640x480 with 2 Axes>"
      ]
     },
     "metadata": {},
     "output_type": "display_data"
    },
    {
     "data": {
      "text/plain": [
       "{'corr':                         Route Type  Collision Type   Weather  \\\n",
       " Route Type                1.000000        0.090643  0.022698   \n",
       " Collision Type            0.090643        1.000000  0.033937   \n",
       " Weather                   0.022698        0.033937  1.000000   \n",
       " Surface Condition         0.033308        0.042754  0.398292   \n",
       " Light                     0.026230        0.091280  0.077960   \n",
       " Traffic Control           0.099761        0.174695  0.012300   \n",
       " Driver Substance Abuse    0.022883        0.075847  0.039004   \n",
       " Driver At Fault           0.068353        0.214236  0.015604   \n",
       " Injury Severity           0.027492        0.129545  0.010741   \n",
       " Driver Distracted By      0.033592        0.082218  0.034699   \n",
       " Speed Limit               0.242466        0.113292  0.017430   \n",
       " Location                  0.683629        0.682622  0.680675   \n",
       " Day of Week               0.009697        0.032827  0.028389   \n",
       " Time of Day               0.030683        0.124963  0.085241   \n",
       " \n",
       "                         Surface Condition     Light  Traffic Control  \\\n",
       " Route Type                       0.033308  0.026230         0.099761   \n",
       " Collision Type                   0.042754  0.091280         0.174695   \n",
       " Weather                          0.398292  0.077960         0.012300   \n",
       " Surface Condition                1.000000  0.052289         0.025322   \n",
       " Light                            0.052289  1.000000         0.101580   \n",
       " Traffic Control                  0.025322  0.101580         1.000000   \n",
       " Driver Substance Abuse           0.001810  0.105443         0.023469   \n",
       " Driver At Fault                  0.023178  0.044400         0.062232   \n",
       " Injury Severity                  0.014434  0.007837         0.032461   \n",
       " Driver Distracted By             0.042516  0.010988         0.046011   \n",
       " Speed Limit                      0.022819  0.023706         0.117060   \n",
       " Location                         0.685074  0.682924         0.684218   \n",
       " Day of Week                      0.021443  0.066060         0.023917   \n",
       " Time of Day                      0.049521  0.451963         0.202671   \n",
       " \n",
       "                         Driver Substance Abuse  Driver At Fault  \\\n",
       " Route Type                            0.022883         0.068353   \n",
       " Collision Type                        0.075847         0.214236   \n",
       " Weather                               0.039004         0.015604   \n",
       " Surface Condition                     0.001810         0.023178   \n",
       " Light                                 0.105443         0.044400   \n",
       " Traffic Control                       0.023469         0.062232   \n",
       " Driver Substance Abuse                1.000000         0.068096   \n",
       " Driver At Fault                       0.068096         1.000000   \n",
       " Injury Severity                       0.026589         0.118917   \n",
       " Driver Distracted By                  0.030402         0.472436   \n",
       " Speed Limit                           0.029183         0.089276   \n",
       " Location                              0.573025         0.000000   \n",
       " Day of Week                           0.060585         0.026580   \n",
       " Time of Day                           0.119995         0.064825   \n",
       " \n",
       "                         Injury Severity  Driver Distracted By  Speed Limit  \\\n",
       " Route Type                     0.027492              0.033592     0.242466   \n",
       " Collision Type                 0.129545              0.082218     0.113292   \n",
       " Weather                        0.010741              0.034699     0.017430   \n",
       " Surface Condition              0.014434              0.042516     0.022819   \n",
       " Light                          0.007837              0.010988     0.023706   \n",
       " Traffic Control                0.032461              0.046011     0.117060   \n",
       " Driver Substance Abuse         0.026589              0.030402     0.029183   \n",
       " Driver At Fault                0.118917              0.472436     0.089276   \n",
       " Injury Severity                1.000000              0.060677     0.048412   \n",
       " Driver Distracted By           0.060677              1.000000     0.055174   \n",
       " Speed Limit                    0.048412              0.055174     1.000000   \n",
       " Location                       0.293350              0.000000     0.631069   \n",
       " Day of Week                    0.008467              0.008116     0.011277   \n",
       " Time of Day                    0.019786              0.022180     0.014509   \n",
       " \n",
       "                         Location  Day of Week  Time of Day  \n",
       " Route Type              0.683629     0.009697     0.030683  \n",
       " Collision Type          0.682622     0.032827     0.124963  \n",
       " Weather                 0.680675     0.028389     0.085241  \n",
       " Surface Condition       0.685074     0.021443     0.049521  \n",
       " Light                   0.682924     0.066060     0.451963  \n",
       " Traffic Control         0.684218     0.023917     0.202671  \n",
       " Driver Substance Abuse  0.573025     0.060585     0.119995  \n",
       " Driver At Fault         0.000000     0.026580     0.064825  \n",
       " Injury Severity         0.293350     0.008467     0.019786  \n",
       " Driver Distracted By    0.000000     0.008116     0.022180  \n",
       " Speed Limit             0.631069     0.011277     0.014509  \n",
       " Location                1.000000     0.682527     0.683529  \n",
       " Day of Week             0.682527     1.000000     0.110230  \n",
       " Time of Day             0.683529     0.110230     1.000000  ,\n",
       " 'ax': <AxesSubplot:>}"
      ]
     },
     "execution_count": 141,
     "metadata": {},
     "output_type": "execute_result"
    }
   ],
   "source": [
    "import dython as dy\n",
    "from dython.nominal import associations\n",
    "from dython.nominal import identify_nominal_columns\n",
    "\n",
    "associations(new_df)\n",
    "\n",
    "# ValueError: negative dimensions are not allowed\n"
   ]
  }
 ],
 "metadata": {
  "kernelspec": {
   "display_name": "Python 3",
   "language": "python",
   "name": "python3"
  },
  "language_info": {
   "codemirror_mode": {
    "name": "ipython",
    "version": 3
   },
   "file_extension": ".py",
   "mimetype": "text/x-python",
   "name": "python",
   "nbconvert_exporter": "python",
   "pygments_lexer": "ipython3",
   "version": "3.9.15"
  },
  "orig_nbformat": 4
 },
 "nbformat": 4,
 "nbformat_minor": 2
}
