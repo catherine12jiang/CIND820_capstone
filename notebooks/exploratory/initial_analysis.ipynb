{
 "cells": [
  {
   "cell_type": "code",
   "execution_count": 1,
   "metadata": {},
   "outputs": [
    {
     "name": "stderr",
     "output_type": "stream",
     "text": [
      "C:\\Users\\Zhaokai\\AppData\\Local\\Temp\\ipykernel_16652\\1438613043.py:4: DtypeWarning: Columns (1) have mixed types. Specify dtype option on import or set low_memory=False.\n",
      "  df = pd.read_csv(\"../../data/raw/Crash_Reporting_Drivers_Data.csv\")\n"
     ]
    },
    {
     "data": {
      "text/html": [
       "<div>\n",
       "<style scoped>\n",
       "    .dataframe tbody tr th:only-of-type {\n",
       "        vertical-align: middle;\n",
       "    }\n",
       "\n",
       "    .dataframe tbody tr th {\n",
       "        vertical-align: top;\n",
       "    }\n",
       "\n",
       "    .dataframe thead th {\n",
       "        text-align: right;\n",
       "    }\n",
       "</style>\n",
       "<table border=\"1\" class=\"dataframe\">\n",
       "  <thead>\n",
       "    <tr style=\"text-align: right;\">\n",
       "      <th></th>\n",
       "      <th>Report Number</th>\n",
       "      <th>Local Case Number</th>\n",
       "      <th>Agency Name</th>\n",
       "      <th>ACRS Report Type</th>\n",
       "      <th>Crash Date/Time</th>\n",
       "      <th>Route Type</th>\n",
       "      <th>Road Name</th>\n",
       "      <th>Cross-Street Type</th>\n",
       "      <th>Cross-Street Name</th>\n",
       "      <th>Off-Road Description</th>\n",
       "      <th>...</th>\n",
       "      <th>Speed Limit</th>\n",
       "      <th>Driverless Vehicle</th>\n",
       "      <th>Parked Vehicle</th>\n",
       "      <th>Vehicle Year</th>\n",
       "      <th>Vehicle Make</th>\n",
       "      <th>Vehicle Model</th>\n",
       "      <th>Equipment Problems</th>\n",
       "      <th>Latitude</th>\n",
       "      <th>Longitude</th>\n",
       "      <th>Location</th>\n",
       "    </tr>\n",
       "  </thead>\n",
       "  <tbody>\n",
       "    <tr>\n",
       "      <th>0</th>\n",
       "      <td>DD5620004G</td>\n",
       "      <td>190046109</td>\n",
       "      <td>Rockville Police Departme</td>\n",
       "      <td>Property Damage Crash</td>\n",
       "      <td>09/26/2019 07:20:00 AM</td>\n",
       "      <td>NaN</td>\n",
       "      <td>NaN</td>\n",
       "      <td>NaN</td>\n",
       "      <td>NaN</td>\n",
       "      <td>PARKING LOT</td>\n",
       "      <td>...</td>\n",
       "      <td>15</td>\n",
       "      <td>No</td>\n",
       "      <td>No</td>\n",
       "      <td>2017</td>\n",
       "      <td>THOMAS</td>\n",
       "      <td>BUS</td>\n",
       "      <td>NO MISUSE</td>\n",
       "      <td>39.103518</td>\n",
       "      <td>-77.157669</td>\n",
       "      <td>(39.10351817, -77.15766933)</td>\n",
       "    </tr>\n",
       "    <tr>\n",
       "      <th>1</th>\n",
       "      <td>MCP29620057</td>\n",
       "      <td>200023865</td>\n",
       "      <td>Montgomery County Police</td>\n",
       "      <td>Property Damage Crash</td>\n",
       "      <td>06/18/2020 02:00:00 AM</td>\n",
       "      <td>County</td>\n",
       "      <td>DAIRYMAID DR</td>\n",
       "      <td>County</td>\n",
       "      <td>METZ DR</td>\n",
       "      <td>NaN</td>\n",
       "      <td>...</td>\n",
       "      <td>35</td>\n",
       "      <td>No</td>\n",
       "      <td>No</td>\n",
       "      <td>2020</td>\n",
       "      <td>UNK</td>\n",
       "      <td>UNK</td>\n",
       "      <td>UNKNOWN</td>\n",
       "      <td>39.154847</td>\n",
       "      <td>-77.271245</td>\n",
       "      <td>(39.15484667, -77.271245)</td>\n",
       "    </tr>\n",
       "    <tr>\n",
       "      <th>2</th>\n",
       "      <td>MCP2651004P</td>\n",
       "      <td>210035267</td>\n",
       "      <td>Montgomery County Police</td>\n",
       "      <td>Property Damage Crash</td>\n",
       "      <td>09/08/2021 12:30:00 PM</td>\n",
       "      <td>NaN</td>\n",
       "      <td>NaN</td>\n",
       "      <td>NaN</td>\n",
       "      <td>NaN</td>\n",
       "      <td>PARKING LOT OF 10109 COLESVILLE RD</td>\n",
       "      <td>...</td>\n",
       "      <td>0</td>\n",
       "      <td>No</td>\n",
       "      <td>No</td>\n",
       "      <td>2010</td>\n",
       "      <td>TOYOTA</td>\n",
       "      <td>SUV</td>\n",
       "      <td>UNKNOWN</td>\n",
       "      <td>39.020303</td>\n",
       "      <td>-77.011436</td>\n",
       "      <td>(39.02030267, -77.01143583)</td>\n",
       "    </tr>\n",
       "    <tr>\n",
       "      <th>3</th>\n",
       "      <td>MCP3050004K</td>\n",
       "      <td>200016465</td>\n",
       "      <td>Montgomery County Police</td>\n",
       "      <td>Property Damage Crash</td>\n",
       "      <td>04/19/2020 03:39:00 PM</td>\n",
       "      <td>County</td>\n",
       "      <td>RUSSETT RD</td>\n",
       "      <td>County</td>\n",
       "      <td>ARCTIC AVE</td>\n",
       "      <td>NaN</td>\n",
       "      <td>...</td>\n",
       "      <td>25</td>\n",
       "      <td>No</td>\n",
       "      <td>No</td>\n",
       "      <td>2004</td>\n",
       "      <td>DODGE</td>\n",
       "      <td>GRAND CARAVAN</td>\n",
       "      <td>NO MISUSE</td>\n",
       "      <td>39.080062</td>\n",
       "      <td>-77.097845</td>\n",
       "      <td>(39.08006167, -77.097845)</td>\n",
       "    </tr>\n",
       "    <tr>\n",
       "      <th>4</th>\n",
       "      <td>MCP2641001J</td>\n",
       "      <td>200016526</td>\n",
       "      <td>Montgomery County Police</td>\n",
       "      <td>Injury Crash</td>\n",
       "      <td>04/20/2020 09:15:00 AM</td>\n",
       "      <td>County</td>\n",
       "      <td>ARCHDALE RD</td>\n",
       "      <td>County</td>\n",
       "      <td>GUNNERS BRANCH RD</td>\n",
       "      <td>NaN</td>\n",
       "      <td>...</td>\n",
       "      <td>25</td>\n",
       "      <td>No</td>\n",
       "      <td>No</td>\n",
       "      <td>2006</td>\n",
       "      <td>HONDA</td>\n",
       "      <td>CR-V</td>\n",
       "      <td>UNKNOWN</td>\n",
       "      <td>39.175230</td>\n",
       "      <td>-77.241090</td>\n",
       "      <td>(39.17523, -77.24109)</td>\n",
       "    </tr>\n",
       "  </tbody>\n",
       "</table>\n",
       "<p>5 rows × 43 columns</p>\n",
       "</div>"
      ],
      "text/plain": [
       "  Report Number Local Case Number                Agency Name  \\\n",
       "0    DD5620004G         190046109  Rockville Police Departme   \n",
       "1   MCP29620057         200023865   Montgomery County Police   \n",
       "2   MCP2651004P         210035267   Montgomery County Police   \n",
       "3   MCP3050004K         200016465   Montgomery County Police   \n",
       "4   MCP2641001J         200016526   Montgomery County Police   \n",
       "\n",
       "        ACRS Report Type         Crash Date/Time Route Type     Road Name  \\\n",
       "0  Property Damage Crash  09/26/2019 07:20:00 AM        NaN           NaN   \n",
       "1  Property Damage Crash  06/18/2020 02:00:00 AM     County  DAIRYMAID DR   \n",
       "2  Property Damage Crash  09/08/2021 12:30:00 PM        NaN           NaN   \n",
       "3  Property Damage Crash  04/19/2020 03:39:00 PM     County    RUSSETT RD   \n",
       "4           Injury Crash  04/20/2020 09:15:00 AM     County   ARCHDALE RD   \n",
       "\n",
       "  Cross-Street Type  Cross-Street Name                Off-Road Description  \\\n",
       "0               NaN                NaN                         PARKING LOT   \n",
       "1            County            METZ DR                                 NaN   \n",
       "2               NaN                NaN  PARKING LOT OF 10109 COLESVILLE RD   \n",
       "3            County         ARCTIC AVE                                 NaN   \n",
       "4            County  GUNNERS BRANCH RD                                 NaN   \n",
       "\n",
       "   ... Speed Limit Driverless Vehicle Parked Vehicle Vehicle Year  \\\n",
       "0  ...          15                 No             No         2017   \n",
       "1  ...          35                 No             No         2020   \n",
       "2  ...           0                 No             No         2010   \n",
       "3  ...          25                 No             No         2004   \n",
       "4  ...          25                 No             No         2006   \n",
       "\n",
       "  Vehicle Make  Vehicle Model Equipment Problems   Latitude  Longitude  \\\n",
       "0       THOMAS            BUS          NO MISUSE  39.103518 -77.157669   \n",
       "1          UNK            UNK            UNKNOWN  39.154847 -77.271245   \n",
       "2       TOYOTA            SUV            UNKNOWN  39.020303 -77.011436   \n",
       "3        DODGE  GRAND CARAVAN          NO MISUSE  39.080062 -77.097845   \n",
       "4        HONDA           CR-V            UNKNOWN  39.175230 -77.241090   \n",
       "\n",
       "                      Location  \n",
       "0  (39.10351817, -77.15766933)  \n",
       "1    (39.15484667, -77.271245)  \n",
       "2  (39.02030267, -77.01143583)  \n",
       "3    (39.08006167, -77.097845)  \n",
       "4        (39.17523, -77.24109)  \n",
       "\n",
       "[5 rows x 43 columns]"
      ]
     },
     "execution_count": 1,
     "metadata": {},
     "output_type": "execute_result"
    }
   ],
   "source": [
    "import pandas as pd\n",
    "\n",
    "# df = pd.read_csv(\"C://Users//Zhaokai//Desktop//CIND820_capstone//project_github_repo//CIND820_capstone//data//raw//Crash_Reporting_Drivers_Data.csv\")\n",
    "df = pd.read_csv(\"../../data/raw/Crash_Reporting_Drivers_Data.csv\")\n",
    "\n",
    "# look at first few 5 rows of dataset\n",
    "df.head()"
   ]
  },
  {
   "cell_type": "code",
   "execution_count": 2,
   "metadata": {},
   "outputs": [
    {
     "data": {
      "text/plain": [
       "(159357, 43)"
      ]
     },
     "execution_count": 2,
     "metadata": {},
     "output_type": "execute_result"
    }
   ],
   "source": [
    "# number of rows, number of columns for dataset\n",
    "nrow,ncol=df.shape\n",
    "nrow,ncol"
   ]
  },
  {
   "cell_type": "code",
   "execution_count": 3,
   "metadata": {},
   "outputs": [
    {
     "name": "stdout",
     "output_type": "stream",
     "text": [
      "<class 'pandas.core.frame.DataFrame'>\n",
      "RangeIndex: 159357 entries, 0 to 159356\n",
      "Data columns (total 43 columns):\n",
      " #   Column                          Non-Null Count   Dtype  \n",
      "---  ------                          --------------   -----  \n",
      " 0   Report Number                   159357 non-null  object \n",
      " 1   Local Case Number               159357 non-null  object \n",
      " 2   Agency Name                     159357 non-null  object \n",
      " 3   ACRS Report Type                159357 non-null  object \n",
      " 4   Crash Date/Time                 159357 non-null  object \n",
      " 5   Route Type                      143710 non-null  object \n",
      " 6   Road Name                       144586 non-null  object \n",
      " 7   Cross-Street Type               143684 non-null  object \n",
      " 8   Cross-Street Name               144577 non-null  object \n",
      " 9   Off-Road Description            14769 non-null   object \n",
      " 10  Municipality                    17700 non-null   object \n",
      " 11  Related Non-Motorist            5019 non-null    object \n",
      " 12  Collision Type                  158820 non-null  object \n",
      " 13  Weather                         146879 non-null  object \n",
      " 14  Surface Condition               140664 non-null  object \n",
      " 15  Light                           158035 non-null  object \n",
      " 16  Traffic Control                 135447 non-null  object \n",
      " 17  Driver Substance Abuse          130386 non-null  object \n",
      " 18  Non-Motorist Substance Abuse    3976 non-null    object \n",
      " 19  Person ID                       159357 non-null  object \n",
      " 20  Driver At Fault                 159357 non-null  object \n",
      " 21  Injury Severity                 159357 non-null  object \n",
      " 22  Circumstance                    29401 non-null   object \n",
      " 23  Driver Distracted By            159357 non-null  object \n",
      " 24  Drivers License State           150465 non-null  object \n",
      " 25  Vehicle ID                      159357 non-null  object \n",
      " 26  Vehicle Damage Extent           159077 non-null  object \n",
      " 27  Vehicle First Impact Location   159201 non-null  object \n",
      " 28  Vehicle Second Impact Location  159101 non-null  object \n",
      " 29  Vehicle Body Type               156923 non-null  object \n",
      " 30  Vehicle Movement                159018 non-null  object \n",
      " 31  Vehicle Continuing Dir          156880 non-null  object \n",
      " 32  Vehicle Going Dir               156880 non-null  object \n",
      " 33  Speed Limit                     159357 non-null  int64  \n",
      " 34  Driverless Vehicle              159357 non-null  object \n",
      " 35  Parked Vehicle                  159357 non-null  object \n",
      " 36  Vehicle Year                    159357 non-null  int64  \n",
      " 37  Vehicle Make                    159335 non-null  object \n",
      " 38  Vehicle Model                   159295 non-null  object \n",
      " 39  Equipment Problems              127136 non-null  object \n",
      " 40  Latitude                        159357 non-null  float64\n",
      " 41  Longitude                       159357 non-null  float64\n",
      " 42  Location                        159357 non-null  object \n",
      "dtypes: float64(2), int64(2), object(39)\n",
      "memory usage: 52.3+ MB\n"
     ]
    }
   ],
   "source": [
    "# We have following data types of variables float64(2), int64(2), object(39). \n",
    "df.info()"
   ]
  },
  {
   "cell_type": "code",
   "execution_count": 5,
   "metadata": {},
   "outputs": [
    {
     "name": "stdout",
     "output_type": "stream",
     "text": [
      "<class 'pandas.core.frame.DataFrame'>\n",
      "RangeIndex: 159357 entries, 0 to 159356\n",
      "Data columns (total 26 columns):\n",
      " #   Column                          Non-Null Count   Dtype \n",
      "---  ------                          --------------   ----- \n",
      " 0   ACRS Report Type                159357 non-null  object\n",
      " 1   Crash Date/Time                 159357 non-null  object\n",
      " 2   Route Type                      143710 non-null  object\n",
      " 3   Collision Type                  158820 non-null  object\n",
      " 4   Weather                         146879 non-null  object\n",
      " 5   Surface Condition               140664 non-null  object\n",
      " 6   Light                           158035 non-null  object\n",
      " 7   Traffic Control                 135447 non-null  object\n",
      " 8   Driver Substance Abuse          130386 non-null  object\n",
      " 9   Driver At Fault                 159357 non-null  object\n",
      " 10  Injury Severity                 159357 non-null  object\n",
      " 11  Driver Distracted By            159357 non-null  object\n",
      " 12  Vehicle Damage Extent           159077 non-null  object\n",
      " 13  Vehicle First Impact Location   159201 non-null  object\n",
      " 14  Vehicle Second Impact Location  159101 non-null  object\n",
      " 15  Vehicle Body Type               156923 non-null  object\n",
      " 16  Vehicle Movement                159018 non-null  object\n",
      " 17  Vehicle Continuing Dir          156880 non-null  object\n",
      " 18  Vehicle Going Dir               156880 non-null  object\n",
      " 19  Speed Limit                     159357 non-null  int64 \n",
      " 20  Parked Vehicle                  159357 non-null  object\n",
      " 21  Vehicle Year                    159357 non-null  int64 \n",
      " 22  Vehicle Make                    159335 non-null  object\n",
      " 23  Vehicle Model                   159295 non-null  object\n",
      " 24  Equipment Problems              127136 non-null  object\n",
      " 25  Location                        159357 non-null  object\n",
      "dtypes: int64(2), object(24)\n",
      "memory usage: 31.6+ MB\n"
     ]
    }
   ],
   "source": [
    "# according to the output of last code section df.info(), we will remove columns with small amount of non-null count values\n",
    "new_df=df.drop([\"Off-Road Description\",\"Municipality\",\"Related Non-Motorist\",\"Non-Motorist Substance Abuse\",\"Circumstance\"],axis=1)\n",
    "\n",
    "# we will also remove \"Driverless Vehicle\", according to its values distribution below, we can tell this column is meaningless.\n",
    "# df[\"Driverless Vehicle\"].value_counts()\n",
    "# No         158668\n",
    "# Unknown       689\n",
    "# Name: Driverless Vehicle, dtype: int64\n",
    "new_df=new_df.drop([\"Driverless Vehicle\"],axis=1)\n",
    "\n",
    "# we also remove columns that are not related to this study:\"Report Number\", \"Local Case Number\", \"Agency Name\",\"Person ID\", \"Vehicle ID\",\"Latitude\",\"Longitude\"\n",
    "new_df=new_df.drop([\"Road Name\",\"Cross-Street Type\",\"Cross-Street Name\",\"Report Number\",\"Local Case Number\",\"Agency Name\",\n",
    "        \"Person ID\", \"Drivers License State\",\"Vehicle ID\",\"Latitude\",\"Longitude\"],axis=1)\n",
    "\n",
    "new_df.info()\n",
    "#new_df.head()"
   ]
  },
  {
   "cell_type": "code",
   "execution_count": 32,
   "metadata": {},
   "outputs": [],
   "source": [
    "new_df = new_df.drop(['test'],axis=1)"
   ]
  },
  {
   "cell_type": "code",
   "execution_count": 35,
   "metadata": {},
   "outputs": [
    {
     "name": "stdout",
     "output_type": "stream",
     "text": [
      "category\n"
     ]
    }
   ],
   "source": [
    "# summary statistics for numeric attributes\n",
    "new_df.describe()\n",
    "\n",
    "# Although \"Speed Limit\" attribute is a numeric attribute\n",
    "# The data is organized as categorical. \n",
    "# We will reduce levels from 15 to 5. \n",
    "# print(new_df[\"Speed Limit\"].value_counts())\n",
    "# new_df[new_df[\"Speed Limit\"] == 0]\n",
    "levels = ['0-10','15-25','30-40','45-55','60-70']\n",
    "\n",
    "bins = [0, 10, 25, 40, 55, 70]\n",
    "\n",
    "# new_df[\"Speed Limit\"] = pd.cut(new_df['Speed Limit'], bins= bins,labels=levels)\n",
    "\n",
    "new_df[\"Speed Limit\"] = new_df[\"Speed Limit\"].astype(\"category\")\n",
    "\n",
    "new_df[\"Speed Limit\"].value_counts()\n",
    "\n",
    "print(new_df[\"Speed Limit\"].dtypes)\n",
    "\n",
    "\n",
    "\n"
   ]
  },
  {
   "cell_type": "code",
   "execution_count": null,
   "metadata": {},
   "outputs": [],
   "source": [
    "# The vehicle year between 1960 and 2024 is considered as valid data entry. \n",
    "# The total size of the data minus the size of the valid entry equals to the number of the rows which will be removed \n",
    "# Output is 3877, and it is a reasonable amount of rows to remove.\n",
    "print(len(new_df) - len(new_df[(new_df[\"Vehicle Year\"]>=1960) & (new_df[\"Vehicle Year\"]<=2024)]))\n",
    "\n",
    "# To remove the rows do not fall into the range.\n",
    "new_df = new_df.loc[(new_df[\"Vehicle Year\"] >= 1960) & (new_df[\"Vehicle Year\"] <= 2024)]"
   ]
  },
  {
   "cell_type": "code",
   "execution_count": null,
   "metadata": {},
   "outputs": [],
   "source": [
    "# use this before you print large amount of data\n",
    "pd.set_option('display.max_rows', 500)\n",
    "pd.set_option('display.max_columns', 500)\n",
    "pd.set_option('display.width', 1000)"
   ]
  },
  {
   "cell_type": "code",
   "execution_count": 5,
   "metadata": {},
   "outputs": [
    {
     "data": {
      "text/plain": [
       "0.1844977001324071"
      ]
     },
     "execution_count": 5,
     "metadata": {},
     "output_type": "execute_result"
    }
   ],
   "source": [
    "# after we completed feature selection at later stage, we will deal with rows with missing values\n"
   ]
  },
  {
   "cell_type": "code",
   "execution_count": 15,
   "metadata": {},
   "outputs": [
    {
     "data": {
      "text/plain": [
       "0    130578\n",
       "1     27325\n",
       "2      1454\n",
       "Name: Injury Severity, dtype: int64"
      ]
     },
     "execution_count": 15,
     "metadata": {},
     "output_type": "execute_result"
    }
   ],
   "source": [
    "# Count the occurrences of each unique value in the class attribute \"Injury Severity\"\n",
    "new_df[\"Injury Severity\"].value_counts()\n",
    "\n"
   ]
  },
  {
   "cell_type": "code",
   "execution_count": 9,
   "metadata": {},
   "outputs": [
    {
     "data": {
      "text/plain": [
       "0    130578\n",
       "1     27325\n",
       "2      1454\n",
       "Name: Injury Severity, dtype: int64"
      ]
     },
     "execution_count": 9,
     "metadata": {},
     "output_type": "execute_result"
    }
   ],
   "source": [
    "# according to the output of last code section, 130578(NO APPARENT INJURY)/159357(total rows) = 81.9% \n",
    "# we can tell that the multi-class problem has imbalanced class distributions. reducing number of classes could help address the issue. we will deal with\n",
    "# imbalanced class distributions later.\n",
    "# A large number of classes can increase the complexity of the classification problem, by reducing the number of classes, we can simplify the problem\n",
    "# and make it more manageable for the model to learn the distinguishing features, which may lead to better performance.\n",
    "\n",
    "# for target variable \"Injury Severity\", convert 5 classes to 3 classes\n",
    "new_df[\"Injury Severity\"]=new_df[\"Injury Severity\"].map({\"NO APPARENT INJURY\":0,\"POSSIBLE INJURY\":1,\"SUSPECTED MINOR INJURY\":1,\"SUSPECTED SERIOUS INJURY\":2,\n",
    "                                             \"FATAL INJURY\":2})\n",
    "new_df[\"Injury Severity\"].value_counts()"
   ]
  },
  {
   "cell_type": "code",
   "execution_count": 10,
   "metadata": {},
   "outputs": [
    {
     "data": {
      "text/plain": [
       "<AxesSubplot:>"
      ]
     },
     "execution_count": 10,
     "metadata": {},
     "output_type": "execute_result"
    },
    {
     "data": {
      "image/png": "[encoded data removed]",
      "text/plain": [
       "<Figure size 640x480 with 1 Axes>"
      ]
     },
     "metadata": {},
     "output_type": "display_data"
    }
   ],
   "source": [
    "# Univariate visualization for class attribute\n",
    "class_counts = new_df[\"Injury Severity\"].value_counts()\n",
    "class_counts.plot.bar(ylim=[0,140000])\n"
   ]
  },
  {
   "cell_type": "code",
   "execution_count": 17,
   "metadata": {},
   "outputs": [
    {
     "name": "stdout",
     "output_type": "stream",
     "text": [
      "<class 'pandas.core.frame.DataFrame'>\n",
      "RangeIndex: 159357 entries, 0 to 159356\n",
      "Data columns (total 26 columns):\n",
      " #   Column                          Non-Null Count   Dtype \n",
      "---  ------                          --------------   ----- \n",
      " 0   ACRS Report Type                159357 non-null  object\n",
      " 1   Crash Date/Time                 159357 non-null  object\n",
      " 2   Route Type                      143710 non-null  object\n",
      " 3   Collision Type                  158820 non-null  object\n",
      " 4   Weather                         146879 non-null  object\n",
      " 5   Surface Condition               140664 non-null  object\n",
      " 6   Light                           158035 non-null  object\n",
      " 7   Traffic Control                 135447 non-null  object\n",
      " 8   Driver Substance Abuse          130386 non-null  object\n",
      " 9   Driver At Fault                 159357 non-null  object\n",
      " 10  Injury Severity                 159357 non-null  int64 \n",
      " 11  Driver Distracted By            159357 non-null  object\n",
      " 12  Vehicle Damage Extent           159077 non-null  object\n",
      " 13  Vehicle First Impact Location   159201 non-null  object\n",
      " 14  Vehicle Second Impact Location  159101 non-null  object\n",
      " 15  Vehicle Body Type               156923 non-null  object\n",
      " 16  Vehicle Movement                159018 non-null  object\n",
      " 17  Vehicle Continuing Dir          156880 non-null  object\n",
      " 18  Vehicle Going Dir               156880 non-null  object\n",
      " 19  Speed Limit                     159357 non-null  int64 \n",
      " 20  Parked Vehicle                  159357 non-null  object\n",
      " 21  Vehicle Year                    159357 non-null  int64 \n",
      " 22  Vehicle Make                    159335 non-null  object\n",
      " 23  Vehicle Model                   159295 non-null  object\n",
      " 24  Equipment Problems              127136 non-null  object\n",
      " 25  Location                        159357 non-null  object\n",
      "dtypes: int64(3), object(23)\n",
      "memory usage: 31.6+ MB\n"
     ]
    }
   ],
   "source": [
    "new_df.info()"
   ]
  },
  {
   "cell_type": "code",
   "execution_count": 8,
   "metadata": {},
   "outputs": [
    {
     "data": {
      "text/plain": [
       "NO APPARENT INJURY          130578\n",
       "POSSIBLE INJURY              16219\n",
       "SUSPECTED MINOR INJURY       11106\n",
       "SUSPECTED SERIOUS INJURY      1310\n",
       "FATAL INJURY                   144\n",
       "Name: Injury Severity, dtype: int64"
      ]
     },
     "execution_count": 8,
     "metadata": {},
     "output_type": "execute_result"
    }
   ],
   "source": [
    "new_df[\"Injury Severity\"].value_counts()"
   ]
  },
  {
   "cell_type": "code",
   "execution_count": 25,
   "metadata": {},
   "outputs": [],
   "source": [
    "df2=new_df.drop([\"Injury Severity\"],axis=1)"
   ]
  },
  {
   "cell_type": "code",
   "execution_count": 11,
   "metadata": {},
   "outputs": [
    {
     "name": "stderr",
     "output_type": "stream",
     "text": [
      "c:\\Users\\Zhaokai\\miniconda3\\lib\\site-packages\\pandas\\core\\reshape\\reshape.py:126: RuntimeWarning: overflow encountered in long_scalars\n",
      "  num_cells = num_rows * num_columns\n"
     ]
    },
    {
     "ename": "ValueError",
     "evalue": "negative dimensions are not allowed",
     "output_type": "error",
     "traceback": [
      "\u001b[1;31m---------------------------------------------------------------------------\u001b[0m",
      "\u001b[1;31mValueError\u001b[0m                                Traceback (most recent call last)",
      "\u001b[1;32mc:\\Users\\Zhaokai\\Desktop\\CIND820_capstone\\project_github_repo\\CIND820_capstone\\notebooks\\exploratory\\initial_analysis.ipynb Cell 13\u001b[0m in \u001b[0;36m5\n\u001b[0;32m      <a href='vscode-notebook-cell:/c%3A/Users/Zhaokai/Desktop/CIND820_capstone/project_github_repo/CIND820_capstone/notebooks/exploratory/initial_analysis.ipynb#X23sZmlsZQ%3D%3D?line=1'>2</a>\u001b[0m \u001b[39mfrom\u001b[39;00m \u001b[39mdython\u001b[39;00m\u001b[39m.\u001b[39;00m\u001b[39mnominal\u001b[39;00m \u001b[39mimport\u001b[39;00m associations\n\u001b[0;32m      <a href='vscode-notebook-cell:/c%3A/Users/Zhaokai/Desktop/CIND820_capstone/project_github_repo/CIND820_capstone/notebooks/exploratory/initial_analysis.ipynb#X23sZmlsZQ%3D%3D?line=2'>3</a>\u001b[0m \u001b[39mfrom\u001b[39;00m \u001b[39mdython\u001b[39;00m\u001b[39m.\u001b[39;00m\u001b[39mnominal\u001b[39;00m \u001b[39mimport\u001b[39;00m identify_nominal_columns\n\u001b[1;32m----> <a href='vscode-notebook-cell:/c%3A/Users/Zhaokai/Desktop/CIND820_capstone/project_github_repo/CIND820_capstone/notebooks/exploratory/initial_analysis.ipynb#X23sZmlsZQ%3D%3D?line=4'>5</a>\u001b[0m associations(new_df)\n",
      "File \u001b[1;32mc:\\Users\\Zhaokai\\miniconda3\\lib\\site-packages\\dython\\nominal.py:671\u001b[0m, in \u001b[0;36massociations\u001b[1;34m(dataset, nominal_columns, numerical_columns, mark_columns, nom_nom_assoc, num_num_assoc, nom_num_assoc, symmetric_nom_nom, symmetric_num_num, display_rows, display_columns, hide_rows, hide_columns, cramers_v_bias_correction, nan_strategy, nan_replace_value, ax, figsize, annot, fmt, cmap, sv_color, cbar, vmax, vmin, plot, compute_only, clustering, title, filename, multiprocessing, max_cpu_cores)\u001b[0m\n\u001b[0;32m    668\u001b[0m     \u001b[39mfor\u001b[39;00m i \u001b[39min\u001b[39;00m \u001b[39mrange\u001b[39m(\u001b[39m0\u001b[39m, \u001b[39mlen\u001b[39m(columns)):\n\u001b[0;32m    669\u001b[0m         \u001b[39mfor\u001b[39;00m j \u001b[39min\u001b[39;00m \u001b[39mrange\u001b[39m(i, \u001b[39mlen\u001b[39m(columns)):\n\u001b[0;32m    670\u001b[0m             results\u001b[39m.\u001b[39mappend(\n\u001b[1;32m--> 671\u001b[0m                 _compute_associations(\n\u001b[0;32m    672\u001b[0m                     [i, j],\n\u001b[0;32m    673\u001b[0m                     dataset,\n\u001b[0;32m    674\u001b[0m                     displayed_features_set,\n\u001b[0;32m    675\u001b[0m                     single_value_columns_set,\n\u001b[0;32m    676\u001b[0m                     nominal_columns,\n\u001b[0;32m    677\u001b[0m                     symmetric_nom_nom,\n\u001b[0;32m    678\u001b[0m                     nom_nom_assoc,\n\u001b[0;32m    679\u001b[0m                     cramers_v_bias_correction,\n\u001b[0;32m    680\u001b[0m                     num_num_assoc,\n\u001b[0;32m    681\u001b[0m                     nom_num_assoc,\n\u001b[0;32m    682\u001b[0m                     symmetric_num_num,\n\u001b[0;32m    683\u001b[0m                     nan_strategy,\n\u001b[0;32m    684\u001b[0m                 )\n\u001b[0;32m    685\u001b[0m             )\n\u001b[0;32m    687\u001b[0m \u001b[39m# fill the correlation dataframe with the results\u001b[39;00m\n\u001b[0;32m    688\u001b[0m \u001b[39mfor\u001b[39;00m result \u001b[39min\u001b[39;00m results:\n",
      "File \u001b[1;32mc:\\Users\\Zhaokai\\miniconda3\\lib\\site-packages\\dython\\nominal.py:1084\u001b[0m, in \u001b[0;36m_compute_associations\u001b[1;34m(indices_pair, dataset, displayed_features_set, single_value_columns_set, nominal_columns, symmetric_nom_nom, nom_nom_assoc, cramers_v_bias_correction, num_num_assoc, nom_num_assoc, symmetric_num_num, nan_strategy)\u001b[0m\n\u001b[0;32m   1078\u001b[0m     ji \u001b[39m=\u001b[39m theils_u(\n\u001b[0;32m   1079\u001b[0m         c_j,\n\u001b[0;32m   1080\u001b[0m         c_i,\n\u001b[0;32m   1081\u001b[0m         nan_strategy\u001b[39m=\u001b[39m_SKIP,\n\u001b[0;32m   1082\u001b[0m     )\n\u001b[0;32m   1083\u001b[0m \u001b[39melif\u001b[39;00m nom_nom_assoc \u001b[39m==\u001b[39m \u001b[39m\"\u001b[39m\u001b[39mcramer\u001b[39m\u001b[39m\"\u001b[39m:\n\u001b[1;32m-> 1084\u001b[0m     cell \u001b[39m=\u001b[39m cramers_v(\n\u001b[0;32m   1085\u001b[0m         c_i,\n\u001b[0;32m   1086\u001b[0m         c_j,\n\u001b[0;32m   1087\u001b[0m         bias_correction\u001b[39m=\u001b[39;49mcramers_v_bias_correction,\n\u001b[0;32m   1088\u001b[0m         nan_strategy\u001b[39m=\u001b[39;49m_SKIP,\n\u001b[0;32m   1089\u001b[0m     )\n\u001b[0;32m   1090\u001b[0m     ij \u001b[39m=\u001b[39m cell\n\u001b[0;32m   1091\u001b[0m     ji \u001b[39m=\u001b[39m cell\n",
      "File \u001b[1;32mc:\\Users\\Zhaokai\\miniconda3\\lib\\site-packages\\dython\\nominal.py:148\u001b[0m, in \u001b[0;36mcramers_v\u001b[1;34m(x, y, bias_correction, nan_strategy, nan_replace_value)\u001b[0m\n\u001b[0;32m    146\u001b[0m \u001b[39melif\u001b[39;00m nan_strategy \u001b[39m==\u001b[39m _DROP:\n\u001b[0;32m    147\u001b[0m     x, y \u001b[39m=\u001b[39m remove_incomplete_samples(x, y)\n\u001b[1;32m--> 148\u001b[0m confusion_matrix \u001b[39m=\u001b[39m pd\u001b[39m.\u001b[39;49mcrosstab(x, y)\n\u001b[0;32m    149\u001b[0m chi2 \u001b[39m=\u001b[39m ss\u001b[39m.\u001b[39mchi2_contingency(confusion_matrix)[\u001b[39m0\u001b[39m]\n\u001b[0;32m    150\u001b[0m n \u001b[39m=\u001b[39m confusion_matrix\u001b[39m.\u001b[39msum()\u001b[39m.\u001b[39msum()\n",
      "File \u001b[1;32mc:\\Users\\Zhaokai\\miniconda3\\lib\\site-packages\\pandas\\core\\reshape\\pivot.py:679\u001b[0m, in \u001b[0;36mcrosstab\u001b[1;34m(index, columns, values, rownames, colnames, aggfunc, margins, margins_name, dropna, normalize)\u001b[0m\n\u001b[0;32m    676\u001b[0m     df[\u001b[39m\"\u001b[39m\u001b[39m__dummy__\u001b[39m\u001b[39m\"\u001b[39m] \u001b[39m=\u001b[39m values\n\u001b[0;32m    677\u001b[0m     kwargs \u001b[39m=\u001b[39m {\u001b[39m\"\u001b[39m\u001b[39maggfunc\u001b[39m\u001b[39m\"\u001b[39m: aggfunc}\n\u001b[1;32m--> 679\u001b[0m table \u001b[39m=\u001b[39m df\u001b[39m.\u001b[39mpivot_table(\n\u001b[0;32m    680\u001b[0m     \u001b[39m\"\u001b[39m\u001b[39m__dummy__\u001b[39m\u001b[39m\"\u001b[39m,\n\u001b[0;32m    681\u001b[0m     index\u001b[39m=\u001b[39munique_rownames,\n\u001b[0;32m    682\u001b[0m     columns\u001b[39m=\u001b[39munique_colnames,\n\u001b[0;32m    683\u001b[0m     margins\u001b[39m=\u001b[39mmargins,\n\u001b[0;32m    684\u001b[0m     margins_name\u001b[39m=\u001b[39mmargins_name,\n\u001b[0;32m    685\u001b[0m     dropna\u001b[39m=\u001b[39mdropna,\n\u001b[0;32m    686\u001b[0m     \u001b[39m*\u001b[39m\u001b[39m*\u001b[39mkwargs,\n\u001b[0;32m    687\u001b[0m )\n\u001b[0;32m    689\u001b[0m \u001b[39m# Post-process\u001b[39;00m\n\u001b[0;32m    690\u001b[0m \u001b[39mif\u001b[39;00m normalize \u001b[39mis\u001b[39;00m \u001b[39mnot\u001b[39;00m \u001b[39mFalse\u001b[39;00m:\n",
      "File \u001b[1;32mc:\\Users\\Zhaokai\\miniconda3\\lib\\site-packages\\pandas\\core\\frame.py:8718\u001b[0m, in \u001b[0;36mDataFrame.pivot_table\u001b[1;34m(self, values, index, columns, aggfunc, fill_value, margins, dropna, margins_name, observed, sort)\u001b[0m\n\u001b[0;32m   8701\u001b[0m \u001b[39m@Substitution\u001b[39m(\u001b[39m\"\u001b[39m\u001b[39m\"\u001b[39m)\n\u001b[0;32m   8702\u001b[0m \u001b[39m@Appender\u001b[39m(_shared_docs[\u001b[39m\"\u001b[39m\u001b[39mpivot_table\u001b[39m\u001b[39m\"\u001b[39m])\n\u001b[0;32m   8703\u001b[0m \u001b[39mdef\u001b[39;00m \u001b[39mpivot_table\u001b[39m(\n\u001b[1;32m   (...)\u001b[0m\n\u001b[0;32m   8714\u001b[0m     sort\u001b[39m=\u001b[39m\u001b[39mTrue\u001b[39;00m,\n\u001b[0;32m   8715\u001b[0m ) \u001b[39m-\u001b[39m\u001b[39m>\u001b[39m DataFrame:\n\u001b[0;32m   8716\u001b[0m     \u001b[39mfrom\u001b[39;00m \u001b[39mpandas\u001b[39;00m\u001b[39m.\u001b[39;00m\u001b[39mcore\u001b[39;00m\u001b[39m.\u001b[39;00m\u001b[39mreshape\u001b[39;00m\u001b[39m.\u001b[39;00m\u001b[39mpivot\u001b[39;00m \u001b[39mimport\u001b[39;00m pivot_table\n\u001b[1;32m-> 8718\u001b[0m     \u001b[39mreturn\u001b[39;00m pivot_table(\n\u001b[0;32m   8719\u001b[0m         \u001b[39mself\u001b[39;49m,\n\u001b[0;32m   8720\u001b[0m         values\u001b[39m=\u001b[39;49mvalues,\n\u001b[0;32m   8721\u001b[0m         index\u001b[39m=\u001b[39;49mindex,\n\u001b[0;32m   8722\u001b[0m         columns\u001b[39m=\u001b[39;49mcolumns,\n\u001b[0;32m   8723\u001b[0m         aggfunc\u001b[39m=\u001b[39;49maggfunc,\n\u001b[0;32m   8724\u001b[0m         fill_value\u001b[39m=\u001b[39;49mfill_value,\n\u001b[0;32m   8725\u001b[0m         margins\u001b[39m=\u001b[39;49mmargins,\n\u001b[0;32m   8726\u001b[0m         dropna\u001b[39m=\u001b[39;49mdropna,\n\u001b[0;32m   8727\u001b[0m         margins_name\u001b[39m=\u001b[39;49mmargins_name,\n\u001b[0;32m   8728\u001b[0m         observed\u001b[39m=\u001b[39;49mobserved,\n\u001b[0;32m   8729\u001b[0m         sort\u001b[39m=\u001b[39;49msort,\n\u001b[0;32m   8730\u001b[0m     )\n",
      "File \u001b[1;32mc:\\Users\\Zhaokai\\miniconda3\\lib\\site-packages\\pandas\\core\\reshape\\pivot.py:96\u001b[0m, in \u001b[0;36mpivot_table\u001b[1;34m(data, values, index, columns, aggfunc, fill_value, margins, dropna, margins_name, observed, sort)\u001b[0m\n\u001b[0;32m     93\u001b[0m     table \u001b[39m=\u001b[39m concat(pieces, keys\u001b[39m=\u001b[39mkeys, axis\u001b[39m=\u001b[39m\u001b[39m1\u001b[39m)\n\u001b[0;32m     94\u001b[0m     \u001b[39mreturn\u001b[39;00m table\u001b[39m.\u001b[39m__finalize__(data, method\u001b[39m=\u001b[39m\u001b[39m\"\u001b[39m\u001b[39mpivot_table\u001b[39m\u001b[39m\"\u001b[39m)\n\u001b[1;32m---> 96\u001b[0m table \u001b[39m=\u001b[39m __internal_pivot_table(\n\u001b[0;32m     97\u001b[0m     data,\n\u001b[0;32m     98\u001b[0m     values,\n\u001b[0;32m     99\u001b[0m     index,\n\u001b[0;32m    100\u001b[0m     columns,\n\u001b[0;32m    101\u001b[0m     aggfunc,\n\u001b[0;32m    102\u001b[0m     fill_value,\n\u001b[0;32m    103\u001b[0m     margins,\n\u001b[0;32m    104\u001b[0m     dropna,\n\u001b[0;32m    105\u001b[0m     margins_name,\n\u001b[0;32m    106\u001b[0m     observed,\n\u001b[0;32m    107\u001b[0m     sort,\n\u001b[0;32m    108\u001b[0m )\n\u001b[0;32m    109\u001b[0m \u001b[39mreturn\u001b[39;00m table\u001b[39m.\u001b[39m__finalize__(data, method\u001b[39m=\u001b[39m\u001b[39m\"\u001b[39m\u001b[39mpivot_table\u001b[39m\u001b[39m\"\u001b[39m)\n",
      "File \u001b[1;32mc:\\Users\\Zhaokai\\miniconda3\\lib\\site-packages\\pandas\\core\\reshape\\pivot.py:207\u001b[0m, in \u001b[0;36m__internal_pivot_table\u001b[1;34m(data, values, index, columns, aggfunc, fill_value, margins, dropna, margins_name, observed, sort)\u001b[0m\n\u001b[0;32m    205\u001b[0m         \u001b[39melse\u001b[39;00m:\n\u001b[0;32m    206\u001b[0m             to_unstack\u001b[39m.\u001b[39mappend(name)\n\u001b[1;32m--> 207\u001b[0m     table \u001b[39m=\u001b[39m agged\u001b[39m.\u001b[39;49munstack(to_unstack)\n\u001b[0;32m    209\u001b[0m \u001b[39mif\u001b[39;00m \u001b[39mnot\u001b[39;00m dropna:\n\u001b[0;32m    210\u001b[0m     \u001b[39mif\u001b[39;00m \u001b[39misinstance\u001b[39m(table\u001b[39m.\u001b[39mindex, MultiIndex):\n",
      "File \u001b[1;32mc:\\Users\\Zhaokai\\miniconda3\\lib\\site-packages\\pandas\\core\\frame.py:9099\u001b[0m, in \u001b[0;36mDataFrame.unstack\u001b[1;34m(self, level, fill_value)\u001b[0m\n\u001b[0;32m   9037\u001b[0m \u001b[39m\"\"\"\u001b[39;00m\n\u001b[0;32m   9038\u001b[0m \u001b[39mPivot a level of the (necessarily hierarchical) index labels.\u001b[39;00m\n\u001b[0;32m   9039\u001b[0m \n\u001b[1;32m   (...)\u001b[0m\n\u001b[0;32m   9095\u001b[0m \u001b[39mdtype: float64\u001b[39;00m\n\u001b[0;32m   9096\u001b[0m \u001b[39m\"\"\"\u001b[39;00m\n\u001b[0;32m   9097\u001b[0m \u001b[39mfrom\u001b[39;00m \u001b[39mpandas\u001b[39;00m\u001b[39m.\u001b[39;00m\u001b[39mcore\u001b[39;00m\u001b[39m.\u001b[39;00m\u001b[39mreshape\u001b[39;00m\u001b[39m.\u001b[39;00m\u001b[39mreshape\u001b[39;00m \u001b[39mimport\u001b[39;00m unstack\n\u001b[1;32m-> 9099\u001b[0m result \u001b[39m=\u001b[39m unstack(\u001b[39mself\u001b[39;49m, level, fill_value)\n\u001b[0;32m   9101\u001b[0m \u001b[39mreturn\u001b[39;00m result\u001b[39m.\u001b[39m__finalize__(\u001b[39mself\u001b[39m, method\u001b[39m=\u001b[39m\u001b[39m\"\u001b[39m\u001b[39munstack\u001b[39m\u001b[39m\"\u001b[39m)\n",
      "File \u001b[1;32mc:\\Users\\Zhaokai\\miniconda3\\lib\\site-packages\\pandas\\core\\reshape\\reshape.py:476\u001b[0m, in \u001b[0;36munstack\u001b[1;34m(obj, level, fill_value)\u001b[0m\n\u001b[0;32m    474\u001b[0m \u001b[39mif\u001b[39;00m \u001b[39misinstance\u001b[39m(obj, DataFrame):\n\u001b[0;32m    475\u001b[0m     \u001b[39mif\u001b[39;00m \u001b[39misinstance\u001b[39m(obj\u001b[39m.\u001b[39mindex, MultiIndex):\n\u001b[1;32m--> 476\u001b[0m         \u001b[39mreturn\u001b[39;00m _unstack_frame(obj, level, fill_value\u001b[39m=\u001b[39;49mfill_value)\n\u001b[0;32m    477\u001b[0m     \u001b[39melse\u001b[39;00m:\n\u001b[0;32m    478\u001b[0m         \u001b[39mreturn\u001b[39;00m obj\u001b[39m.\u001b[39mT\u001b[39m.\u001b[39mstack(dropna\u001b[39m=\u001b[39m\u001b[39mFalse\u001b[39;00m)\n",
      "File \u001b[1;32mc:\\Users\\Zhaokai\\miniconda3\\lib\\site-packages\\pandas\\core\\reshape\\reshape.py:499\u001b[0m, in \u001b[0;36m_unstack_frame\u001b[1;34m(obj, level, fill_value)\u001b[0m\n\u001b[0;32m    497\u001b[0m \u001b[39mdef\u001b[39;00m \u001b[39m_unstack_frame\u001b[39m(obj: DataFrame, level, fill_value\u001b[39m=\u001b[39m\u001b[39mNone\u001b[39;00m):\n\u001b[0;32m    498\u001b[0m     \u001b[39massert\u001b[39;00m \u001b[39misinstance\u001b[39m(obj\u001b[39m.\u001b[39mindex, MultiIndex)  \u001b[39m# checked by caller\u001b[39;00m\n\u001b[1;32m--> 499\u001b[0m     unstacker \u001b[39m=\u001b[39m _Unstacker(obj\u001b[39m.\u001b[39;49mindex, level\u001b[39m=\u001b[39;49mlevel, constructor\u001b[39m=\u001b[39;49mobj\u001b[39m.\u001b[39;49m_constructor)\n\u001b[0;32m    501\u001b[0m     \u001b[39mif\u001b[39;00m \u001b[39mnot\u001b[39;00m obj\u001b[39m.\u001b[39m_can_fast_transpose:\n\u001b[0;32m    502\u001b[0m         mgr \u001b[39m=\u001b[39m obj\u001b[39m.\u001b[39m_mgr\u001b[39m.\u001b[39munstack(unstacker, fill_value\u001b[39m=\u001b[39mfill_value)\n",
      "File \u001b[1;32mc:\\Users\\Zhaokai\\miniconda3\\lib\\site-packages\\pandas\\core\\reshape\\reshape.py:137\u001b[0m, in \u001b[0;36m_Unstacker.__init__\u001b[1;34m(self, index, level, constructor)\u001b[0m\n\u001b[0;32m    129\u001b[0m \u001b[39mif\u001b[39;00m num_cells \u001b[39m>\u001b[39m np\u001b[39m.\u001b[39miinfo(np\u001b[39m.\u001b[39mint32)\u001b[39m.\u001b[39mmax:\n\u001b[0;32m    130\u001b[0m     warnings\u001b[39m.\u001b[39mwarn(\n\u001b[0;32m    131\u001b[0m         \u001b[39mf\u001b[39m\u001b[39m\"\u001b[39m\u001b[39mThe following operation may generate \u001b[39m\u001b[39m{\u001b[39;00mnum_cells\u001b[39m}\u001b[39;00m\u001b[39m cells \u001b[39m\u001b[39m\"\u001b[39m\n\u001b[0;32m    132\u001b[0m         \u001b[39mf\u001b[39m\u001b[39m\"\u001b[39m\u001b[39min the resulting pandas object.\u001b[39m\u001b[39m\"\u001b[39m,\n\u001b[0;32m    133\u001b[0m         PerformanceWarning,\n\u001b[0;32m    134\u001b[0m         stacklevel\u001b[39m=\u001b[39mfind_stack_level(),\n\u001b[0;32m    135\u001b[0m     )\n\u001b[1;32m--> 137\u001b[0m \u001b[39mself\u001b[39;49m\u001b[39m.\u001b[39;49m_make_selectors()\n",
      "File \u001b[1;32mc:\\Users\\Zhaokai\\miniconda3\\lib\\site-packages\\pandas\\core\\reshape\\reshape.py:185\u001b[0m, in \u001b[0;36m_Unstacker._make_selectors\u001b[1;34m(self)\u001b[0m\n\u001b[0;32m    182\u001b[0m \u001b[39mself\u001b[39m\u001b[39m.\u001b[39mfull_shape \u001b[39m=\u001b[39m ngroups, stride\n\u001b[0;32m    184\u001b[0m selector \u001b[39m=\u001b[39m \u001b[39mself\u001b[39m\u001b[39m.\u001b[39msorted_labels[\u001b[39m-\u001b[39m\u001b[39m1\u001b[39m] \u001b[39m+\u001b[39m stride \u001b[39m*\u001b[39m comp_index \u001b[39m+\u001b[39m \u001b[39mself\u001b[39m\u001b[39m.\u001b[39mlift\n\u001b[1;32m--> 185\u001b[0m mask \u001b[39m=\u001b[39m np\u001b[39m.\u001b[39;49mzeros(np\u001b[39m.\u001b[39;49mprod(\u001b[39mself\u001b[39;49m\u001b[39m.\u001b[39;49mfull_shape), dtype\u001b[39m=\u001b[39;49m\u001b[39mbool\u001b[39;49m)\n\u001b[0;32m    186\u001b[0m mask\u001b[39m.\u001b[39mput(selector, \u001b[39mTrue\u001b[39;00m)\n\u001b[0;32m    188\u001b[0m \u001b[39mif\u001b[39;00m mask\u001b[39m.\u001b[39msum() \u001b[39m<\u001b[39m \u001b[39mlen\u001b[39m(\u001b[39mself\u001b[39m\u001b[39m.\u001b[39mindex):\n",
      "\u001b[1;31mValueError\u001b[0m: negative dimensions are not allowed"
     ]
    }
   ],
   "source": [
    "import dython as dy\n",
    "from dython.nominal import associations\n",
    "from dython.nominal import identify_nominal_columns\n",
    "\n",
    "associations(new_df)\n",
    "\n",
    "# ValueError: negative dimensions are not allowed\n"
   ]
  },
  {
   "cell_type": "code",
   "execution_count": 2,
   "metadata": {},
   "outputs": [],
   "source": []
  },
  {
   "cell_type": "code",
   "execution_count": 3,
   "metadata": {},
   "outputs": [],
   "source": []
  },
  {
   "cell_type": "code",
   "execution_count": 29,
   "metadata": {},
   "outputs": [
    {
     "ename": "ValueError",
     "evalue": "Unable to coerce list of <class 'pandas.core.series.Series'> to Series/DataFrame",
     "output_type": "error",
     "traceback": [
      "\u001b[1;31m---------------------------------------------------------------------------\u001b[0m",
      "\u001b[1;31mValueError\u001b[0m                                Traceback (most recent call last)",
      "\u001b[1;32mc:\\Users\\Zhaokai\\Desktop\\CIND820_capstone\\project_github_repo\\CIND820_capstone\\notebooks\\exploratory\\initial_analysis.ipynb Cell 13\u001b[0m in \u001b[0;36m<cell line: 1>\u001b[1;34m()\u001b[0m\n\u001b[1;32m----> <a href='vscode-notebook-cell:/c%3A/Users/Zhaokai/Desktop/CIND820_capstone/project_github_repo/CIND820_capstone/notebooks/exploratory/initial_analysis.ipynb#X16sZmlsZQ%3D%3D?line=0'>1</a>\u001b[0m crosstab \u001b[39m=\u001b[39m pd\u001b[39m.\u001b[39;49mcrosstab(new_df[\u001b[39m\"\u001b[39;49m\u001b[39mInjury Severity\u001b[39;49m\u001b[39m\"\u001b[39;49m],df2[[]])\n",
      "File \u001b[1;32mc:\\Users\\Zhaokai\\AppData\\Local\\Programs\\Python\\Python310\\lib\\site-packages\\pandas\\core\\reshape\\pivot.py:640\u001b[0m, in \u001b[0;36mcrosstab\u001b[1;34m(index, columns, values, rownames, colnames, aggfunc, margins, margins_name, dropna, normalize)\u001b[0m\n\u001b[0;32m    637\u001b[0m     columns \u001b[39m=\u001b[39m [columns]\n\u001b[0;32m    639\u001b[0m common_idx \u001b[39m=\u001b[39m \u001b[39mNone\u001b[39;00m\n\u001b[1;32m--> 640\u001b[0m pass_objs \u001b[39m=\u001b[39m [x \u001b[39mfor\u001b[39;00m x \u001b[39min\u001b[39;00m index \u001b[39m+\u001b[39;49m columns \u001b[39mif\u001b[39;00m \u001b[39misinstance\u001b[39m(x, (ABCSeries, ABCDataFrame))]\n\u001b[0;32m    641\u001b[0m \u001b[39mif\u001b[39;00m pass_objs:\n\u001b[0;32m    642\u001b[0m     common_idx \u001b[39m=\u001b[39m get_objs_combined_axis(pass_objs, intersect\u001b[39m=\u001b[39m\u001b[39mTrue\u001b[39;00m, sort\u001b[39m=\u001b[39m\u001b[39mFalse\u001b[39;00m)\n",
      "File \u001b[1;32mc:\\Users\\Zhaokai\\AppData\\Local\\Programs\\Python\\Python310\\lib\\site-packages\\pandas\\core\\ops\\common.py:70\u001b[0m, in \u001b[0;36m_unpack_zerodim_and_defer.<locals>.new_method\u001b[1;34m(self, other)\u001b[0m\n\u001b[0;32m     66\u001b[0m             \u001b[39mreturn\u001b[39;00m \u001b[39mNotImplemented\u001b[39m\n\u001b[0;32m     68\u001b[0m other \u001b[39m=\u001b[39m item_from_zerodim(other)\n\u001b[1;32m---> 70\u001b[0m \u001b[39mreturn\u001b[39;00m method(\u001b[39mself\u001b[39;49m, other)\n",
      "File \u001b[1;32mc:\\Users\\Zhaokai\\AppData\\Local\\Programs\\Python\\Python310\\lib\\site-packages\\pandas\\core\\arraylike.py:104\u001b[0m, in \u001b[0;36mOpsMixin.__radd__\u001b[1;34m(self, other)\u001b[0m\n\u001b[0;32m    102\u001b[0m \u001b[39m@unpack_zerodim_and_defer\u001b[39m(\u001b[39m\"\u001b[39m\u001b[39m__radd__\u001b[39m\u001b[39m\"\u001b[39m)\n\u001b[0;32m    103\u001b[0m \u001b[39mdef\u001b[39;00m \u001b[39m__radd__\u001b[39m(\u001b[39mself\u001b[39m, other):\n\u001b[1;32m--> 104\u001b[0m     \u001b[39mreturn\u001b[39;00m \u001b[39mself\u001b[39;49m\u001b[39m.\u001b[39;49m_arith_method(other, roperator\u001b[39m.\u001b[39;49mradd)\n",
      "File \u001b[1;32mc:\\Users\\Zhaokai\\AppData\\Local\\Programs\\Python\\Python310\\lib\\site-packages\\pandas\\core\\frame.py:6950\u001b[0m, in \u001b[0;36mDataFrame._arith_method\u001b[1;34m(self, other, op)\u001b[0m\n\u001b[0;32m   6947\u001b[0m axis \u001b[39m=\u001b[39m \u001b[39m1\u001b[39m  \u001b[39m# only relevant for Series other case\u001b[39;00m\n\u001b[0;32m   6948\u001b[0m other \u001b[39m=\u001b[39m ops\u001b[39m.\u001b[39mmaybe_prepare_scalar_for_op(other, (\u001b[39mself\u001b[39m\u001b[39m.\u001b[39mshape[axis],))\n\u001b[1;32m-> 6950\u001b[0m \u001b[39mself\u001b[39m, other \u001b[39m=\u001b[39m ops\u001b[39m.\u001b[39;49malign_method_FRAME(\u001b[39mself\u001b[39;49m, other, axis, flex\u001b[39m=\u001b[39;49m\u001b[39mTrue\u001b[39;49;00m, level\u001b[39m=\u001b[39;49m\u001b[39mNone\u001b[39;49;00m)\n\u001b[0;32m   6952\u001b[0m new_data \u001b[39m=\u001b[39m \u001b[39mself\u001b[39m\u001b[39m.\u001b[39m_dispatch_frame_op(other, op, axis\u001b[39m=\u001b[39maxis)\n\u001b[0;32m   6953\u001b[0m \u001b[39mreturn\u001b[39;00m \u001b[39mself\u001b[39m\u001b[39m.\u001b[39m_construct_result(new_data)\n",
      "File \u001b[1;32mc:\\Users\\Zhaokai\\AppData\\Local\\Programs\\Python\\Python310\\lib\\site-packages\\pandas\\core\\ops\\__init__.py:278\u001b[0m, in \u001b[0;36malign_method_FRAME\u001b[1;34m(left, right, axis, flex, level)\u001b[0m\n\u001b[0;32m    275\u001b[0m \u001b[39melif\u001b[39;00m is_list_like(right) \u001b[39mand\u001b[39;00m \u001b[39mnot\u001b[39;00m \u001b[39misinstance\u001b[39m(right, (ABCSeries, ABCDataFrame)):\n\u001b[0;32m    276\u001b[0m     \u001b[39m# GH 36702. Raise when attempting arithmetic with list of array-like.\u001b[39;00m\n\u001b[0;32m    277\u001b[0m     \u001b[39mif\u001b[39;00m \u001b[39many\u001b[39m(is_array_like(el) \u001b[39mfor\u001b[39;00m el \u001b[39min\u001b[39;00m right):\n\u001b[1;32m--> 278\u001b[0m         \u001b[39mraise\u001b[39;00m \u001b[39mValueError\u001b[39;00m(\n\u001b[0;32m    279\u001b[0m             \u001b[39mf\u001b[39m\u001b[39m\"\u001b[39m\u001b[39mUnable to coerce list of \u001b[39m\u001b[39m{\u001b[39;00m\u001b[39mtype\u001b[39m(right[\u001b[39m0\u001b[39m])\u001b[39m}\u001b[39;00m\u001b[39m to Series/DataFrame\u001b[39m\u001b[39m\"\u001b[39m\n\u001b[0;32m    280\u001b[0m         )\n\u001b[0;32m    281\u001b[0m     \u001b[39m# GH17901\u001b[39;00m\n\u001b[0;32m    282\u001b[0m     right \u001b[39m=\u001b[39m to_series(right)\n",
      "\u001b[1;31mValueError\u001b[0m: Unable to coerce list of <class 'pandas.core.series.Series'> to Series/DataFrame"
     ]
    }
   ],
   "source": []
  }
 ],
 "metadata": {
  "kernelspec": {
   "display_name": "Python 3",
   "language": "python",
   "name": "python3"
  },
  "language_info": {
   "codemirror_mode": {
    "name": "ipython",
    "version": 3
   },
   "file_extension": ".py",
   "mimetype": "text/x-python",
   "name": "python",
   "nbconvert_exporter": "python",
   "pygments_lexer": "ipython3",
   "version": "3.9.15"
  },
  "orig_nbformat": 4
 },
 "nbformat": 4,
 "nbformat_minor": 2
}
